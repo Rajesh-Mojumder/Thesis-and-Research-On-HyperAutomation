{
  "nbformat": 4,
  "nbformat_minor": 0,
  "metadata": {
    "colab": {
      "provenance": [],
      "include_colab_link": true
    },
    "kernelspec": {
      "name": "python3",
      "display_name": "Python 3"
    },
    "language_info": {
      "name": "python"
    }
  },
  "cells": [
    {
      "cell_type": "markdown",
      "metadata": {
        "id": "view-in-github",
        "colab_type": "text"
      },
      "source": [
        "<a href=\"https://colab.research.google.com/github/Joykarmoker71/Thesis-product-placement/blob/main/total_sales_prediction.ipynb\" target=\"_parent\"><img src=\"https://colab.research.google.com/assets/colab-badge.svg\" alt=\"Open In Colab\"/></a>"
      ]
    },
    {
      "cell_type": "code",
      "execution_count": 2,
      "metadata": {
        "id": "MNd0Xhk41ip0"
      },
      "outputs": [],
      "source": [
        "import os\n",
        "import pandas as pd\n",
        "import numpy as np\n",
        "import matplotlib.pyplot as plt\n",
        "from xgboost import XGBRegressor\n",
        "from sklearn.ensemble import RandomForestRegressor\n",
        "from sklearn.linear_model import LinearRegression\n",
        "from sklearn.preprocessing import MinMaxScaler\n",
        "from sklearn.metrics import mean_absolute_error, mean_squared_error, r2_score #evaluation matric, For regression problem's accuracy, just like conf. matrice in classification task\n",
        "from tensorflow.keras.models import Sequential #Sequential model is a linear stack of layers. \n",
        "from tensorflow.keras.layers import Dense, LSTM, Flatten #Layers are the basic building blocks of neural networks in Keras.\n",
        "# The dense layer in neural networks is the one that executes matrix-vector multiplication. And, LSTM is a variety of recurrent neural networks (RNNs) that are capable of learning long-term dependencies, especially in sequence prediction problems.\n",
        "from tensorflow.keras.callbacks import EarlyStopping, ModelCheckpoint #Callbacks are useful to get a view on internal states and statistics of the model during training.\n",
        "#EarlyStopping is a callback used while training neural networks, which provides us the advantage of using a large number of training epochs and stopping the training once the model's performance stops improving on the validation Dataset.\n",
        "#ModelCheckpoint callback is used in conjunction with training using model. fit() to save a model or weights (in a checkpoint file) at some interval, so the model or weights can be loaded later to continue the training from the state saved"
      ]
    },
    {
      "cell_type": "code",
      "source": [
        "from google.colab import drive\n",
        "drive.mount('/content/drive')"
      ],
      "metadata": {
        "colab": {
          "base_uri": "https://localhost:8080/"
        },
        "id": "hchO6UD92Ja9",
        "outputId": "53d692ab-5196-49f3-fb73-5834074e7170"
      },
      "execution_count": 3,
      "outputs": [
        {
          "output_type": "stream",
          "name": "stdout",
          "text": [
            "Mounted at /content/drive\n"
          ]
        }
      ]
    },
    {
      "cell_type": "code",
      "source": [
        "store_sales = pd.read_csv('/content/drive/MyDrive/THESIS/prediction/Report (1).csv')\n",
        "store_sales.head(10)"
      ],
      "metadata": {
        "colab": {
          "base_uri": "https://localhost:8080/",
          "height": 363
        },
        "id": "AuUDJESW2mak",
        "outputId": "5f0745c0-75fa-4eb4-c50a-d9dc7bb5d081"
      },
      "execution_count": 6,
      "outputs": [
        {
          "output_type": "execute_result",
          "data": {
            "text/plain": [
              "                INVOICE    S_CODE         CLASS_NAME        CODE  \\\n",
              "0  OC3801-01-2201000001  1/1/2022  Sweet & Fast Food  2500000114   \n",
              "1  OC3801-01-2201000001  1/1/2022           Beverage  3000000463   \n",
              "2  OC3801-01-2201000001  1/1/2022           Beverage  3000000435   \n",
              "3  OC3801-01-2201000001  1/1/2022      Personal Care  6000001263   \n",
              "4  OC3801-01-2201000002  1/1/2022      Packaged Food  5500000565   \n",
              "5  OC3801-01-2201000002  1/1/2022      Packaged Food  5500000349   \n",
              "6  OC3801-01-2201000002  1/1/2022      Packaged Food  5500000402   \n",
              "7  OC3801-01-2201000002  1/1/2022        Commodities  3500000120   \n",
              "8  OC3801-01-2201000003  1/1/2022      Packaged Food  5500000078   \n",
              "9  OC3801-01-2201000003  1/1/2022      Packaged Food  5500001605   \n",
              "\n",
              "                                       NAME  QTY   RATE  TOTAL  COST_PRICE  \n",
              "0              Tasty Treat Butter Bun 100gm  1.0   30.0   30.0       21.60  \n",
              "1                  Coca-Cola 250ml Zero PET  1.0   20.0   20.0       13.86  \n",
              "2               Royal Crown Club Soda 500ml  1.0   30.0   30.0       25.00  \n",
              "3        Himalaya Aloe Vera Face Wash 100ml  1.0  190.0  190.0      142.50  \n",
              "4                 All Time Milk Bread 300gm  1.0   45.0   45.0       34.20  \n",
              "5  PRAN Jhatpat Paratha Low Fat 10pcs 600gm  1.0  100.0  100.0       72.00  \n",
              "6             All Time Sandwich Bread 300gm  1.0   40.0   40.0       29.90  \n",
              "7                     BSFIC Brown Sugar 1kg  1.0   85.0   85.0       66.57  \n",
              "8         PRAN Mr. Noodle 12ps Magic Masala  1.0  210.0  210.0      157.22  \n",
              "9         Pringles Original 42gm (Malaysia)  1.0  100.0  100.0       80.00  "
            ],
            "text/html": [
              "\n",
              "  <div id=\"df-1bcb54bd-36f4-4844-bc51-1359345a5538\">\n",
              "    <div class=\"colab-df-container\">\n",
              "      <div>\n",
              "<style scoped>\n",
              "    .dataframe tbody tr th:only-of-type {\n",
              "        vertical-align: middle;\n",
              "    }\n",
              "\n",
              "    .dataframe tbody tr th {\n",
              "        vertical-align: top;\n",
              "    }\n",
              "\n",
              "    .dataframe thead th {\n",
              "        text-align: right;\n",
              "    }\n",
              "</style>\n",
              "<table border=\"1\" class=\"dataframe\">\n",
              "  <thead>\n",
              "    <tr style=\"text-align: right;\">\n",
              "      <th></th>\n",
              "      <th>INVOICE</th>\n",
              "      <th>S_CODE</th>\n",
              "      <th>CLASS_NAME</th>\n",
              "      <th>CODE</th>\n",
              "      <th>NAME</th>\n",
              "      <th>QTY</th>\n",
              "      <th>RATE</th>\n",
              "      <th>TOTAL</th>\n",
              "      <th>COST_PRICE</th>\n",
              "    </tr>\n",
              "  </thead>\n",
              "  <tbody>\n",
              "    <tr>\n",
              "      <th>0</th>\n",
              "      <td>OC3801-01-2201000001</td>\n",
              "      <td>1/1/2022</td>\n",
              "      <td>Sweet &amp; Fast Food</td>\n",
              "      <td>2500000114</td>\n",
              "      <td>Tasty Treat Butter Bun 100gm</td>\n",
              "      <td>1.0</td>\n",
              "      <td>30.0</td>\n",
              "      <td>30.0</td>\n",
              "      <td>21.60</td>\n",
              "    </tr>\n",
              "    <tr>\n",
              "      <th>1</th>\n",
              "      <td>OC3801-01-2201000001</td>\n",
              "      <td>1/1/2022</td>\n",
              "      <td>Beverage</td>\n",
              "      <td>3000000463</td>\n",
              "      <td>Coca-Cola 250ml Zero PET</td>\n",
              "      <td>1.0</td>\n",
              "      <td>20.0</td>\n",
              "      <td>20.0</td>\n",
              "      <td>13.86</td>\n",
              "    </tr>\n",
              "    <tr>\n",
              "      <th>2</th>\n",
              "      <td>OC3801-01-2201000001</td>\n",
              "      <td>1/1/2022</td>\n",
              "      <td>Beverage</td>\n",
              "      <td>3000000435</td>\n",
              "      <td>Royal Crown Club Soda 500ml</td>\n",
              "      <td>1.0</td>\n",
              "      <td>30.0</td>\n",
              "      <td>30.0</td>\n",
              "      <td>25.00</td>\n",
              "    </tr>\n",
              "    <tr>\n",
              "      <th>3</th>\n",
              "      <td>OC3801-01-2201000001</td>\n",
              "      <td>1/1/2022</td>\n",
              "      <td>Personal Care</td>\n",
              "      <td>6000001263</td>\n",
              "      <td>Himalaya Aloe Vera Face Wash 100ml</td>\n",
              "      <td>1.0</td>\n",
              "      <td>190.0</td>\n",
              "      <td>190.0</td>\n",
              "      <td>142.50</td>\n",
              "    </tr>\n",
              "    <tr>\n",
              "      <th>4</th>\n",
              "      <td>OC3801-01-2201000002</td>\n",
              "      <td>1/1/2022</td>\n",
              "      <td>Packaged Food</td>\n",
              "      <td>5500000565</td>\n",
              "      <td>All Time Milk Bread 300gm</td>\n",
              "      <td>1.0</td>\n",
              "      <td>45.0</td>\n",
              "      <td>45.0</td>\n",
              "      <td>34.20</td>\n",
              "    </tr>\n",
              "    <tr>\n",
              "      <th>5</th>\n",
              "      <td>OC3801-01-2201000002</td>\n",
              "      <td>1/1/2022</td>\n",
              "      <td>Packaged Food</td>\n",
              "      <td>5500000349</td>\n",
              "      <td>PRAN Jhatpat Paratha Low Fat 10pcs 600gm</td>\n",
              "      <td>1.0</td>\n",
              "      <td>100.0</td>\n",
              "      <td>100.0</td>\n",
              "      <td>72.00</td>\n",
              "    </tr>\n",
              "    <tr>\n",
              "      <th>6</th>\n",
              "      <td>OC3801-01-2201000002</td>\n",
              "      <td>1/1/2022</td>\n",
              "      <td>Packaged Food</td>\n",
              "      <td>5500000402</td>\n",
              "      <td>All Time Sandwich Bread 300gm</td>\n",
              "      <td>1.0</td>\n",
              "      <td>40.0</td>\n",
              "      <td>40.0</td>\n",
              "      <td>29.90</td>\n",
              "    </tr>\n",
              "    <tr>\n",
              "      <th>7</th>\n",
              "      <td>OC3801-01-2201000002</td>\n",
              "      <td>1/1/2022</td>\n",
              "      <td>Commodities</td>\n",
              "      <td>3500000120</td>\n",
              "      <td>BSFIC Brown Sugar 1kg</td>\n",
              "      <td>1.0</td>\n",
              "      <td>85.0</td>\n",
              "      <td>85.0</td>\n",
              "      <td>66.57</td>\n",
              "    </tr>\n",
              "    <tr>\n",
              "      <th>8</th>\n",
              "      <td>OC3801-01-2201000003</td>\n",
              "      <td>1/1/2022</td>\n",
              "      <td>Packaged Food</td>\n",
              "      <td>5500000078</td>\n",
              "      <td>PRAN Mr. Noodle 12ps Magic Masala</td>\n",
              "      <td>1.0</td>\n",
              "      <td>210.0</td>\n",
              "      <td>210.0</td>\n",
              "      <td>157.22</td>\n",
              "    </tr>\n",
              "    <tr>\n",
              "      <th>9</th>\n",
              "      <td>OC3801-01-2201000003</td>\n",
              "      <td>1/1/2022</td>\n",
              "      <td>Packaged Food</td>\n",
              "      <td>5500001605</td>\n",
              "      <td>Pringles Original 42gm (Malaysia)</td>\n",
              "      <td>1.0</td>\n",
              "      <td>100.0</td>\n",
              "      <td>100.0</td>\n",
              "      <td>80.00</td>\n",
              "    </tr>\n",
              "  </tbody>\n",
              "</table>\n",
              "</div>\n",
              "      <button class=\"colab-df-convert\" onclick=\"convertToInteractive('df-1bcb54bd-36f4-4844-bc51-1359345a5538')\"\n",
              "              title=\"Convert this dataframe to an interactive table.\"\n",
              "              style=\"display:none;\">\n",
              "        \n",
              "  <svg xmlns=\"http://www.w3.org/2000/svg\" height=\"24px\"viewBox=\"0 0 24 24\"\n",
              "       width=\"24px\">\n",
              "    <path d=\"M0 0h24v24H0V0z\" fill=\"none\"/>\n",
              "    <path d=\"M18.56 5.44l.94 2.06.94-2.06 2.06-.94-2.06-.94-.94-2.06-.94 2.06-2.06.94zm-11 1L8.5 8.5l.94-2.06 2.06-.94-2.06-.94L8.5 2.5l-.94 2.06-2.06.94zm10 10l.94 2.06.94-2.06 2.06-.94-2.06-.94-.94-2.06-.94 2.06-2.06.94z\"/><path d=\"M17.41 7.96l-1.37-1.37c-.4-.4-.92-.59-1.43-.59-.52 0-1.04.2-1.43.59L10.3 9.45l-7.72 7.72c-.78.78-.78 2.05 0 2.83L4 21.41c.39.39.9.59 1.41.59.51 0 1.02-.2 1.41-.59l7.78-7.78 2.81-2.81c.8-.78.8-2.07 0-2.86zM5.41 20L4 18.59l7.72-7.72 1.47 1.35L5.41 20z\"/>\n",
              "  </svg>\n",
              "      </button>\n",
              "      \n",
              "  <style>\n",
              "    .colab-df-container {\n",
              "      display:flex;\n",
              "      flex-wrap:wrap;\n",
              "      gap: 12px;\n",
              "    }\n",
              "\n",
              "    .colab-df-convert {\n",
              "      background-color: #E8F0FE;\n",
              "      border: none;\n",
              "      border-radius: 50%;\n",
              "      cursor: pointer;\n",
              "      display: none;\n",
              "      fill: #1967D2;\n",
              "      height: 32px;\n",
              "      padding: 0 0 0 0;\n",
              "      width: 32px;\n",
              "    }\n",
              "\n",
              "    .colab-df-convert:hover {\n",
              "      background-color: #E2EBFA;\n",
              "      box-shadow: 0px 1px 2px rgba(60, 64, 67, 0.3), 0px 1px 3px 1px rgba(60, 64, 67, 0.15);\n",
              "      fill: #174EA6;\n",
              "    }\n",
              "\n",
              "    [theme=dark] .colab-df-convert {\n",
              "      background-color: #3B4455;\n",
              "      fill: #D2E3FC;\n",
              "    }\n",
              "\n",
              "    [theme=dark] .colab-df-convert:hover {\n",
              "      background-color: #434B5C;\n",
              "      box-shadow: 0px 1px 3px 1px rgba(0, 0, 0, 0.15);\n",
              "      filter: drop-shadow(0px 1px 2px rgba(0, 0, 0, 0.3));\n",
              "      fill: #FFFFFF;\n",
              "    }\n",
              "  </style>\n",
              "\n",
              "      <script>\n",
              "        const buttonEl =\n",
              "          document.querySelector('#df-1bcb54bd-36f4-4844-bc51-1359345a5538 button.colab-df-convert');\n",
              "        buttonEl.style.display =\n",
              "          google.colab.kernel.accessAllowed ? 'block' : 'none';\n",
              "\n",
              "        async function convertToInteractive(key) {\n",
              "          const element = document.querySelector('#df-1bcb54bd-36f4-4844-bc51-1359345a5538');\n",
              "          const dataTable =\n",
              "            await google.colab.kernel.invokeFunction('convertToInteractive',\n",
              "                                                     [key], {});\n",
              "          if (!dataTable) return;\n",
              "\n",
              "          const docLinkHtml = 'Like what you see? Visit the ' +\n",
              "            '<a target=\"_blank\" href=https://colab.research.google.com/notebooks/data_table.ipynb>data table notebook</a>'\n",
              "            + ' to learn more about interactive tables.';\n",
              "          element.innerHTML = '';\n",
              "          dataTable['output_type'] = 'display_data';\n",
              "          await google.colab.output.renderOutput(dataTable, element);\n",
              "          const docLink = document.createElement('div');\n",
              "          docLink.innerHTML = docLinkHtml;\n",
              "          element.appendChild(docLink);\n",
              "        }\n",
              "      </script>\n",
              "    </div>\n",
              "  </div>\n",
              "  "
            ]
          },
          "metadata": {},
          "execution_count": 6
        }
      ]
    },
    {
      "cell_type": "markdown",
      "source": [
        "NULL CHECK"
      ],
      "metadata": {
        "id": "Em8JgphL47OX"
      }
    },
    {
      "cell_type": "code",
      "source": [
        "store_sales.info()"
      ],
      "metadata": {
        "colab": {
          "base_uri": "https://localhost:8080/"
        },
        "id": "3FgxjQRW2_3g",
        "outputId": "decac4e0-be53-42b8-faf9-fa80b9bb0673"
      },
      "execution_count": 7,
      "outputs": [
        {
          "output_type": "stream",
          "name": "stdout",
          "text": [
            "<class 'pandas.core.frame.DataFrame'>\n",
            "RangeIndex: 158293 entries, 0 to 158292\n",
            "Data columns (total 9 columns):\n",
            " #   Column      Non-Null Count   Dtype  \n",
            "---  ------      --------------   -----  \n",
            " 0   INVOICE     158293 non-null  object \n",
            " 1   S_CODE      158293 non-null  object \n",
            " 2   CLASS_NAME  158293 non-null  object \n",
            " 3   CODE        158293 non-null  int64  \n",
            " 4   NAME        158293 non-null  object \n",
            " 5   QTY         158293 non-null  float64\n",
            " 6   RATE        158293 non-null  float64\n",
            " 7   TOTAL       158293 non-null  float64\n",
            " 8   COST_PRICE  158293 non-null  float64\n",
            "dtypes: float64(4), int64(1), object(4)\n",
            "memory usage: 10.9+ MB\n"
          ]
        }
      ]
    },
    {
      "cell_type": "markdown",
      "source": [
        "Drop Irrelevant Column"
      ],
      "metadata": {
        "id": "DT7ZOzhN5Umr"
      }
    },
    {
      "cell_type": "code",
      "source": [
        "store_sales = store_sales.drop(['INVOICE','CLASS_NAME','CODE','NAME','RATE','TOTAL','COST_PRICE'], axis=1)\n"
      ],
      "metadata": {
        "id": "lHdImgF23Ss7"
      },
      "execution_count": 8,
      "outputs": []
    },
    {
      "cell_type": "code",
      "source": [
        "store_sales.info()"
      ],
      "metadata": {
        "colab": {
          "base_uri": "https://localhost:8080/"
        },
        "id": "8fm5o62w7rAy",
        "outputId": "b92e09b7-2c20-48b5-ffd2-e628d1681b30"
      },
      "execution_count": 9,
      "outputs": [
        {
          "output_type": "stream",
          "name": "stdout",
          "text": [
            "<class 'pandas.core.frame.DataFrame'>\n",
            "RangeIndex: 158293 entries, 0 to 158292\n",
            "Data columns (total 2 columns):\n",
            " #   Column  Non-Null Count   Dtype  \n",
            "---  ------  --------------   -----  \n",
            " 0   S_CODE  158293 non-null  object \n",
            " 1   QTY     158293 non-null  float64\n",
            "dtypes: float64(1), object(1)\n",
            "memory usage: 2.4+ MB\n"
          ]
        }
      ]
    },
    {
      "cell_type": "markdown",
      "source": [
        "Rename column"
      ],
      "metadata": {
        "id": "e0XCO2Nb716o"
      }
    },
    {
      "cell_type": "code",
      "source": [
        "store_sales.rename(columns = {'S_CODE':'Date'}, inplace = True)"
      ],
      "metadata": {
        "id": "b03O2bHu74O3"
      },
      "execution_count": 10,
      "outputs": []
    },
    {
      "cell_type": "code",
      "source": [
        "store_sales.info()"
      ],
      "metadata": {
        "colab": {
          "base_uri": "https://localhost:8080/"
        },
        "id": "OE9W861L8Il2",
        "outputId": "1db46d1e-aff4-44f2-9c0f-c0092cb77fbc"
      },
      "execution_count": 11,
      "outputs": [
        {
          "output_type": "stream",
          "name": "stdout",
          "text": [
            "<class 'pandas.core.frame.DataFrame'>\n",
            "RangeIndex: 158293 entries, 0 to 158292\n",
            "Data columns (total 2 columns):\n",
            " #   Column  Non-Null Count   Dtype  \n",
            "---  ------  --------------   -----  \n",
            " 0   Date    158293 non-null  object \n",
            " 1   QTY     158293 non-null  float64\n",
            "dtypes: float64(1), object(1)\n",
            "memory usage: 2.4+ MB\n"
          ]
        }
      ]
    },
    {
      "cell_type": "markdown",
      "source": [
        "Convert to datetime datatype -> \"Date\""
      ],
      "metadata": {
        "id": "E6NEsahu8WNJ"
      }
    },
    {
      "cell_type": "code",
      "source": [
        "store_sales['Date'] = pd.to_datetime(store_sales['Date'])"
      ],
      "metadata": {
        "id": "CrV-m2lr56Rq"
      },
      "execution_count": 12,
      "outputs": []
    },
    {
      "cell_type": "markdown",
      "source": [
        "Monthly Sales"
      ],
      "metadata": {
        "id": "OfSOlT7l88My"
      }
    },
    {
      "cell_type": "code",
      "source": [
        "store_sales['Date'] = store_sales['Date'].dt.to_period('M')\n",
        "monthly_sales = store_sales.groupby('Date')['QTY'].sum().reset_index()"
      ],
      "metadata": {
        "id": "b8VjYAgw6II9"
      },
      "execution_count": 13,
      "outputs": []
    },
    {
      "cell_type": "code",
      "source": [
        "monthly_sales"
      ],
      "metadata": {
        "colab": {
          "base_uri": "https://localhost:8080/",
          "height": 425
        },
        "id": "2bwAXbJX90i5",
        "outputId": "4e0b5036-1630-4f98-c44e-428292f68b9c"
      },
      "execution_count": 14,
      "outputs": [
        {
          "output_type": "execute_result",
          "data": {
            "text/plain": [
              "       Date       QTY\n",
              "0   2022-01  38855.50\n",
              "1   2022-02  30831.85\n",
              "2   2022-03  27753.50\n",
              "3   2022-04  31835.38\n",
              "4   2022-05  30124.15\n",
              "5   2022-06  26870.37\n",
              "6   2022-07  33578.60\n",
              "7   2022-08  31325.47\n",
              "8   2022-09  29487.76\n",
              "9   2022-10  29907.18\n",
              "10  2022-11  11684.43\n",
              "11  2022-12   9842.18"
            ],
            "text/html": [
              "\n",
              "  <div id=\"df-b2368ab8-34b0-4090-8fe5-02475cbadd83\">\n",
              "    <div class=\"colab-df-container\">\n",
              "      <div>\n",
              "<style scoped>\n",
              "    .dataframe tbody tr th:only-of-type {\n",
              "        vertical-align: middle;\n",
              "    }\n",
              "\n",
              "    .dataframe tbody tr th {\n",
              "        vertical-align: top;\n",
              "    }\n",
              "\n",
              "    .dataframe thead th {\n",
              "        text-align: right;\n",
              "    }\n",
              "</style>\n",
              "<table border=\"1\" class=\"dataframe\">\n",
              "  <thead>\n",
              "    <tr style=\"text-align: right;\">\n",
              "      <th></th>\n",
              "      <th>Date</th>\n",
              "      <th>QTY</th>\n",
              "    </tr>\n",
              "  </thead>\n",
              "  <tbody>\n",
              "    <tr>\n",
              "      <th>0</th>\n",
              "      <td>2022-01</td>\n",
              "      <td>38855.50</td>\n",
              "    </tr>\n",
              "    <tr>\n",
              "      <th>1</th>\n",
              "      <td>2022-02</td>\n",
              "      <td>30831.85</td>\n",
              "    </tr>\n",
              "    <tr>\n",
              "      <th>2</th>\n",
              "      <td>2022-03</td>\n",
              "      <td>27753.50</td>\n",
              "    </tr>\n",
              "    <tr>\n",
              "      <th>3</th>\n",
              "      <td>2022-04</td>\n",
              "      <td>31835.38</td>\n",
              "    </tr>\n",
              "    <tr>\n",
              "      <th>4</th>\n",
              "      <td>2022-05</td>\n",
              "      <td>30124.15</td>\n",
              "    </tr>\n",
              "    <tr>\n",
              "      <th>5</th>\n",
              "      <td>2022-06</td>\n",
              "      <td>26870.37</td>\n",
              "    </tr>\n",
              "    <tr>\n",
              "      <th>6</th>\n",
              "      <td>2022-07</td>\n",
              "      <td>33578.60</td>\n",
              "    </tr>\n",
              "    <tr>\n",
              "      <th>7</th>\n",
              "      <td>2022-08</td>\n",
              "      <td>31325.47</td>\n",
              "    </tr>\n",
              "    <tr>\n",
              "      <th>8</th>\n",
              "      <td>2022-09</td>\n",
              "      <td>29487.76</td>\n",
              "    </tr>\n",
              "    <tr>\n",
              "      <th>9</th>\n",
              "      <td>2022-10</td>\n",
              "      <td>29907.18</td>\n",
              "    </tr>\n",
              "    <tr>\n",
              "      <th>10</th>\n",
              "      <td>2022-11</td>\n",
              "      <td>11684.43</td>\n",
              "    </tr>\n",
              "    <tr>\n",
              "      <th>11</th>\n",
              "      <td>2022-12</td>\n",
              "      <td>9842.18</td>\n",
              "    </tr>\n",
              "  </tbody>\n",
              "</table>\n",
              "</div>\n",
              "      <button class=\"colab-df-convert\" onclick=\"convertToInteractive('df-b2368ab8-34b0-4090-8fe5-02475cbadd83')\"\n",
              "              title=\"Convert this dataframe to an interactive table.\"\n",
              "              style=\"display:none;\">\n",
              "        \n",
              "  <svg xmlns=\"http://www.w3.org/2000/svg\" height=\"24px\"viewBox=\"0 0 24 24\"\n",
              "       width=\"24px\">\n",
              "    <path d=\"M0 0h24v24H0V0z\" fill=\"none\"/>\n",
              "    <path d=\"M18.56 5.44l.94 2.06.94-2.06 2.06-.94-2.06-.94-.94-2.06-.94 2.06-2.06.94zm-11 1L8.5 8.5l.94-2.06 2.06-.94-2.06-.94L8.5 2.5l-.94 2.06-2.06.94zm10 10l.94 2.06.94-2.06 2.06-.94-2.06-.94-.94-2.06-.94 2.06-2.06.94z\"/><path d=\"M17.41 7.96l-1.37-1.37c-.4-.4-.92-.59-1.43-.59-.52 0-1.04.2-1.43.59L10.3 9.45l-7.72 7.72c-.78.78-.78 2.05 0 2.83L4 21.41c.39.39.9.59 1.41.59.51 0 1.02-.2 1.41-.59l7.78-7.78 2.81-2.81c.8-.78.8-2.07 0-2.86zM5.41 20L4 18.59l7.72-7.72 1.47 1.35L5.41 20z\"/>\n",
              "  </svg>\n",
              "      </button>\n",
              "      \n",
              "  <style>\n",
              "    .colab-df-container {\n",
              "      display:flex;\n",
              "      flex-wrap:wrap;\n",
              "      gap: 12px;\n",
              "    }\n",
              "\n",
              "    .colab-df-convert {\n",
              "      background-color: #E8F0FE;\n",
              "      border: none;\n",
              "      border-radius: 50%;\n",
              "      cursor: pointer;\n",
              "      display: none;\n",
              "      fill: #1967D2;\n",
              "      height: 32px;\n",
              "      padding: 0 0 0 0;\n",
              "      width: 32px;\n",
              "    }\n",
              "\n",
              "    .colab-df-convert:hover {\n",
              "      background-color: #E2EBFA;\n",
              "      box-shadow: 0px 1px 2px rgba(60, 64, 67, 0.3), 0px 1px 3px 1px rgba(60, 64, 67, 0.15);\n",
              "      fill: #174EA6;\n",
              "    }\n",
              "\n",
              "    [theme=dark] .colab-df-convert {\n",
              "      background-color: #3B4455;\n",
              "      fill: #D2E3FC;\n",
              "    }\n",
              "\n",
              "    [theme=dark] .colab-df-convert:hover {\n",
              "      background-color: #434B5C;\n",
              "      box-shadow: 0px 1px 3px 1px rgba(0, 0, 0, 0.15);\n",
              "      filter: drop-shadow(0px 1px 2px rgba(0, 0, 0, 0.3));\n",
              "      fill: #FFFFFF;\n",
              "    }\n",
              "  </style>\n",
              "\n",
              "      <script>\n",
              "        const buttonEl =\n",
              "          document.querySelector('#df-b2368ab8-34b0-4090-8fe5-02475cbadd83 button.colab-df-convert');\n",
              "        buttonEl.style.display =\n",
              "          google.colab.kernel.accessAllowed ? 'block' : 'none';\n",
              "\n",
              "        async function convertToInteractive(key) {\n",
              "          const element = document.querySelector('#df-b2368ab8-34b0-4090-8fe5-02475cbadd83');\n",
              "          const dataTable =\n",
              "            await google.colab.kernel.invokeFunction('convertToInteractive',\n",
              "                                                     [key], {});\n",
              "          if (!dataTable) return;\n",
              "\n",
              "          const docLinkHtml = 'Like what you see? Visit the ' +\n",
              "            '<a target=\"_blank\" href=https://colab.research.google.com/notebooks/data_table.ipynb>data table notebook</a>'\n",
              "            + ' to learn more about interactive tables.';\n",
              "          element.innerHTML = '';\n",
              "          dataTable['output_type'] = 'display_data';\n",
              "          await google.colab.output.renderOutput(dataTable, element);\n",
              "          const docLink = document.createElement('div');\n",
              "          docLink.innerHTML = docLinkHtml;\n",
              "          element.appendChild(docLink);\n",
              "        }\n",
              "      </script>\n",
              "    </div>\n",
              "  </div>\n",
              "  "
            ]
          },
          "metadata": {},
          "execution_count": 14
        }
      ]
    },
    {
      "cell_type": "code",
      "source": [
        "type(monthly_sales)"
      ],
      "metadata": {
        "colab": {
          "base_uri": "https://localhost:8080/"
        },
        "id": "yxcSaEAv-Aw9",
        "outputId": "dff79f5f-ea14-4cf3-abcc-1d0ce1224c3b"
      },
      "execution_count": 15,
      "outputs": [
        {
          "output_type": "execute_result",
          "data": {
            "text/plain": [
              "pandas.core.frame.DataFrame"
            ]
          },
          "metadata": {},
          "execution_count": 15
        }
      ]
    },
    {
      "cell_type": "markdown",
      "source": [
        "Convert to timestamp datatype"
      ],
      "metadata": {
        "id": "ZJoBKYoL-GY_"
      }
    },
    {
      "cell_type": "code",
      "source": [
        "monthly_sales['Date'] = monthly_sales['Date'].dt.to_timestamp()\n",
        "monthly_sales.head()"
      ],
      "metadata": {
        "colab": {
          "base_uri": "https://localhost:8080/",
          "height": 206
        },
        "id": "6ShL2oGq6hF8",
        "outputId": "61a2dcf6-7b5e-459f-e686-4d060e6ef370"
      },
      "execution_count": 16,
      "outputs": [
        {
          "output_type": "execute_result",
          "data": {
            "text/plain": [
              "        Date       QTY\n",
              "0 2022-01-01  38855.50\n",
              "1 2022-02-01  30831.85\n",
              "2 2022-03-01  27753.50\n",
              "3 2022-04-01  31835.38\n",
              "4 2022-05-01  30124.15"
            ],
            "text/html": [
              "\n",
              "  <div id=\"df-e7b03e35-8815-4e85-8294-753381233155\">\n",
              "    <div class=\"colab-df-container\">\n",
              "      <div>\n",
              "<style scoped>\n",
              "    .dataframe tbody tr th:only-of-type {\n",
              "        vertical-align: middle;\n",
              "    }\n",
              "\n",
              "    .dataframe tbody tr th {\n",
              "        vertical-align: top;\n",
              "    }\n",
              "\n",
              "    .dataframe thead th {\n",
              "        text-align: right;\n",
              "    }\n",
              "</style>\n",
              "<table border=\"1\" class=\"dataframe\">\n",
              "  <thead>\n",
              "    <tr style=\"text-align: right;\">\n",
              "      <th></th>\n",
              "      <th>Date</th>\n",
              "      <th>QTY</th>\n",
              "    </tr>\n",
              "  </thead>\n",
              "  <tbody>\n",
              "    <tr>\n",
              "      <th>0</th>\n",
              "      <td>2022-01-01</td>\n",
              "      <td>38855.50</td>\n",
              "    </tr>\n",
              "    <tr>\n",
              "      <th>1</th>\n",
              "      <td>2022-02-01</td>\n",
              "      <td>30831.85</td>\n",
              "    </tr>\n",
              "    <tr>\n",
              "      <th>2</th>\n",
              "      <td>2022-03-01</td>\n",
              "      <td>27753.50</td>\n",
              "    </tr>\n",
              "    <tr>\n",
              "      <th>3</th>\n",
              "      <td>2022-04-01</td>\n",
              "      <td>31835.38</td>\n",
              "    </tr>\n",
              "    <tr>\n",
              "      <th>4</th>\n",
              "      <td>2022-05-01</td>\n",
              "      <td>30124.15</td>\n",
              "    </tr>\n",
              "  </tbody>\n",
              "</table>\n",
              "</div>\n",
              "      <button class=\"colab-df-convert\" onclick=\"convertToInteractive('df-e7b03e35-8815-4e85-8294-753381233155')\"\n",
              "              title=\"Convert this dataframe to an interactive table.\"\n",
              "              style=\"display:none;\">\n",
              "        \n",
              "  <svg xmlns=\"http://www.w3.org/2000/svg\" height=\"24px\"viewBox=\"0 0 24 24\"\n",
              "       width=\"24px\">\n",
              "    <path d=\"M0 0h24v24H0V0z\" fill=\"none\"/>\n",
              "    <path d=\"M18.56 5.44l.94 2.06.94-2.06 2.06-.94-2.06-.94-.94-2.06-.94 2.06-2.06.94zm-11 1L8.5 8.5l.94-2.06 2.06-.94-2.06-.94L8.5 2.5l-.94 2.06-2.06.94zm10 10l.94 2.06.94-2.06 2.06-.94-2.06-.94-.94-2.06-.94 2.06-2.06.94z\"/><path d=\"M17.41 7.96l-1.37-1.37c-.4-.4-.92-.59-1.43-.59-.52 0-1.04.2-1.43.59L10.3 9.45l-7.72 7.72c-.78.78-.78 2.05 0 2.83L4 21.41c.39.39.9.59 1.41.59.51 0 1.02-.2 1.41-.59l7.78-7.78 2.81-2.81c.8-.78.8-2.07 0-2.86zM5.41 20L4 18.59l7.72-7.72 1.47 1.35L5.41 20z\"/>\n",
              "  </svg>\n",
              "      </button>\n",
              "      \n",
              "  <style>\n",
              "    .colab-df-container {\n",
              "      display:flex;\n",
              "      flex-wrap:wrap;\n",
              "      gap: 12px;\n",
              "    }\n",
              "\n",
              "    .colab-df-convert {\n",
              "      background-color: #E8F0FE;\n",
              "      border: none;\n",
              "      border-radius: 50%;\n",
              "      cursor: pointer;\n",
              "      display: none;\n",
              "      fill: #1967D2;\n",
              "      height: 32px;\n",
              "      padding: 0 0 0 0;\n",
              "      width: 32px;\n",
              "    }\n",
              "\n",
              "    .colab-df-convert:hover {\n",
              "      background-color: #E2EBFA;\n",
              "      box-shadow: 0px 1px 2px rgba(60, 64, 67, 0.3), 0px 1px 3px 1px rgba(60, 64, 67, 0.15);\n",
              "      fill: #174EA6;\n",
              "    }\n",
              "\n",
              "    [theme=dark] .colab-df-convert {\n",
              "      background-color: #3B4455;\n",
              "      fill: #D2E3FC;\n",
              "    }\n",
              "\n",
              "    [theme=dark] .colab-df-convert:hover {\n",
              "      background-color: #434B5C;\n",
              "      box-shadow: 0px 1px 3px 1px rgba(0, 0, 0, 0.15);\n",
              "      filter: drop-shadow(0px 1px 2px rgba(0, 0, 0, 0.3));\n",
              "      fill: #FFFFFF;\n",
              "    }\n",
              "  </style>\n",
              "\n",
              "      <script>\n",
              "        const buttonEl =\n",
              "          document.querySelector('#df-e7b03e35-8815-4e85-8294-753381233155 button.colab-df-convert');\n",
              "        buttonEl.style.display =\n",
              "          google.colab.kernel.accessAllowed ? 'block' : 'none';\n",
              "\n",
              "        async function convertToInteractive(key) {\n",
              "          const element = document.querySelector('#df-e7b03e35-8815-4e85-8294-753381233155');\n",
              "          const dataTable =\n",
              "            await google.colab.kernel.invokeFunction('convertToInteractive',\n",
              "                                                     [key], {});\n",
              "          if (!dataTable) return;\n",
              "\n",
              "          const docLinkHtml = 'Like what you see? Visit the ' +\n",
              "            '<a target=\"_blank\" href=https://colab.research.google.com/notebooks/data_table.ipynb>data table notebook</a>'\n",
              "            + ' to learn more about interactive tables.';\n",
              "          element.innerHTML = '';\n",
              "          dataTable['output_type'] = 'display_data';\n",
              "          await google.colab.output.renderOutput(dataTable, element);\n",
              "          const docLink = document.createElement('div');\n",
              "          docLink.innerHTML = docLinkHtml;\n",
              "          element.appendChild(docLink);\n",
              "        }\n",
              "      </script>\n",
              "    </div>\n",
              "  </div>\n",
              "  "
            ]
          },
          "metadata": {},
          "execution_count": 16
        }
      ]
    },
    {
      "cell_type": "code",
      "source": [
        "monthly_sales"
      ],
      "metadata": {
        "colab": {
          "base_uri": "https://localhost:8080/",
          "height": 425
        },
        "id": "LyZdegG8-sJl",
        "outputId": "b61e8a44-c62e-4b47-d2da-1c00b59ce692"
      },
      "execution_count": 17,
      "outputs": [
        {
          "output_type": "execute_result",
          "data": {
            "text/plain": [
              "         Date       QTY\n",
              "0  2022-01-01  38855.50\n",
              "1  2022-02-01  30831.85\n",
              "2  2022-03-01  27753.50\n",
              "3  2022-04-01  31835.38\n",
              "4  2022-05-01  30124.15\n",
              "5  2022-06-01  26870.37\n",
              "6  2022-07-01  33578.60\n",
              "7  2022-08-01  31325.47\n",
              "8  2022-09-01  29487.76\n",
              "9  2022-10-01  29907.18\n",
              "10 2022-11-01  11684.43\n",
              "11 2022-12-01   9842.18"
            ],
            "text/html": [
              "\n",
              "  <div id=\"df-048f56a5-e672-487e-af48-cc734db52e14\">\n",
              "    <div class=\"colab-df-container\">\n",
              "      <div>\n",
              "<style scoped>\n",
              "    .dataframe tbody tr th:only-of-type {\n",
              "        vertical-align: middle;\n",
              "    }\n",
              "\n",
              "    .dataframe tbody tr th {\n",
              "        vertical-align: top;\n",
              "    }\n",
              "\n",
              "    .dataframe thead th {\n",
              "        text-align: right;\n",
              "    }\n",
              "</style>\n",
              "<table border=\"1\" class=\"dataframe\">\n",
              "  <thead>\n",
              "    <tr style=\"text-align: right;\">\n",
              "      <th></th>\n",
              "      <th>Date</th>\n",
              "      <th>QTY</th>\n",
              "    </tr>\n",
              "  </thead>\n",
              "  <tbody>\n",
              "    <tr>\n",
              "      <th>0</th>\n",
              "      <td>2022-01-01</td>\n",
              "      <td>38855.50</td>\n",
              "    </tr>\n",
              "    <tr>\n",
              "      <th>1</th>\n",
              "      <td>2022-02-01</td>\n",
              "      <td>30831.85</td>\n",
              "    </tr>\n",
              "    <tr>\n",
              "      <th>2</th>\n",
              "      <td>2022-03-01</td>\n",
              "      <td>27753.50</td>\n",
              "    </tr>\n",
              "    <tr>\n",
              "      <th>3</th>\n",
              "      <td>2022-04-01</td>\n",
              "      <td>31835.38</td>\n",
              "    </tr>\n",
              "    <tr>\n",
              "      <th>4</th>\n",
              "      <td>2022-05-01</td>\n",
              "      <td>30124.15</td>\n",
              "    </tr>\n",
              "    <tr>\n",
              "      <th>5</th>\n",
              "      <td>2022-06-01</td>\n",
              "      <td>26870.37</td>\n",
              "    </tr>\n",
              "    <tr>\n",
              "      <th>6</th>\n",
              "      <td>2022-07-01</td>\n",
              "      <td>33578.60</td>\n",
              "    </tr>\n",
              "    <tr>\n",
              "      <th>7</th>\n",
              "      <td>2022-08-01</td>\n",
              "      <td>31325.47</td>\n",
              "    </tr>\n",
              "    <tr>\n",
              "      <th>8</th>\n",
              "      <td>2022-09-01</td>\n",
              "      <td>29487.76</td>\n",
              "    </tr>\n",
              "    <tr>\n",
              "      <th>9</th>\n",
              "      <td>2022-10-01</td>\n",
              "      <td>29907.18</td>\n",
              "    </tr>\n",
              "    <tr>\n",
              "      <th>10</th>\n",
              "      <td>2022-11-01</td>\n",
              "      <td>11684.43</td>\n",
              "    </tr>\n",
              "    <tr>\n",
              "      <th>11</th>\n",
              "      <td>2022-12-01</td>\n",
              "      <td>9842.18</td>\n",
              "    </tr>\n",
              "  </tbody>\n",
              "</table>\n",
              "</div>\n",
              "      <button class=\"colab-df-convert\" onclick=\"convertToInteractive('df-048f56a5-e672-487e-af48-cc734db52e14')\"\n",
              "              title=\"Convert this dataframe to an interactive table.\"\n",
              "              style=\"display:none;\">\n",
              "        \n",
              "  <svg xmlns=\"http://www.w3.org/2000/svg\" height=\"24px\"viewBox=\"0 0 24 24\"\n",
              "       width=\"24px\">\n",
              "    <path d=\"M0 0h24v24H0V0z\" fill=\"none\"/>\n",
              "    <path d=\"M18.56 5.44l.94 2.06.94-2.06 2.06-.94-2.06-.94-.94-2.06-.94 2.06-2.06.94zm-11 1L8.5 8.5l.94-2.06 2.06-.94-2.06-.94L8.5 2.5l-.94 2.06-2.06.94zm10 10l.94 2.06.94-2.06 2.06-.94-2.06-.94-.94-2.06-.94 2.06-2.06.94z\"/><path d=\"M17.41 7.96l-1.37-1.37c-.4-.4-.92-.59-1.43-.59-.52 0-1.04.2-1.43.59L10.3 9.45l-7.72 7.72c-.78.78-.78 2.05 0 2.83L4 21.41c.39.39.9.59 1.41.59.51 0 1.02-.2 1.41-.59l7.78-7.78 2.81-2.81c.8-.78.8-2.07 0-2.86zM5.41 20L4 18.59l7.72-7.72 1.47 1.35L5.41 20z\"/>\n",
              "  </svg>\n",
              "      </button>\n",
              "      \n",
              "  <style>\n",
              "    .colab-df-container {\n",
              "      display:flex;\n",
              "      flex-wrap:wrap;\n",
              "      gap: 12px;\n",
              "    }\n",
              "\n",
              "    .colab-df-convert {\n",
              "      background-color: #E8F0FE;\n",
              "      border: none;\n",
              "      border-radius: 50%;\n",
              "      cursor: pointer;\n",
              "      display: none;\n",
              "      fill: #1967D2;\n",
              "      height: 32px;\n",
              "      padding: 0 0 0 0;\n",
              "      width: 32px;\n",
              "    }\n",
              "\n",
              "    .colab-df-convert:hover {\n",
              "      background-color: #E2EBFA;\n",
              "      box-shadow: 0px 1px 2px rgba(60, 64, 67, 0.3), 0px 1px 3px 1px rgba(60, 64, 67, 0.15);\n",
              "      fill: #174EA6;\n",
              "    }\n",
              "\n",
              "    [theme=dark] .colab-df-convert {\n",
              "      background-color: #3B4455;\n",
              "      fill: #D2E3FC;\n",
              "    }\n",
              "\n",
              "    [theme=dark] .colab-df-convert:hover {\n",
              "      background-color: #434B5C;\n",
              "      box-shadow: 0px 1px 3px 1px rgba(0, 0, 0, 0.15);\n",
              "      filter: drop-shadow(0px 1px 2px rgba(0, 0, 0, 0.3));\n",
              "      fill: #FFFFFF;\n",
              "    }\n",
              "  </style>\n",
              "\n",
              "      <script>\n",
              "        const buttonEl =\n",
              "          document.querySelector('#df-048f56a5-e672-487e-af48-cc734db52e14 button.colab-df-convert');\n",
              "        buttonEl.style.display =\n",
              "          google.colab.kernel.accessAllowed ? 'block' : 'none';\n",
              "\n",
              "        async function convertToInteractive(key) {\n",
              "          const element = document.querySelector('#df-048f56a5-e672-487e-af48-cc734db52e14');\n",
              "          const dataTable =\n",
              "            await google.colab.kernel.invokeFunction('convertToInteractive',\n",
              "                                                     [key], {});\n",
              "          if (!dataTable) return;\n",
              "\n",
              "          const docLinkHtml = 'Like what you see? Visit the ' +\n",
              "            '<a target=\"_blank\" href=https://colab.research.google.com/notebooks/data_table.ipynb>data table notebook</a>'\n",
              "            + ' to learn more about interactive tables.';\n",
              "          element.innerHTML = '';\n",
              "          dataTable['output_type'] = 'display_data';\n",
              "          await google.colab.output.renderOutput(dataTable, element);\n",
              "          const docLink = document.createElement('div');\n",
              "          docLink.innerHTML = docLinkHtml;\n",
              "          element.appendChild(docLink);\n",
              "        }\n",
              "      </script>\n",
              "    </div>\n",
              "  </div>\n",
              "  "
            ]
          },
          "metadata": {},
          "execution_count": 17
        }
      ]
    },
    {
      "cell_type": "markdown",
      "source": [
        "Visualiztion"
      ],
      "metadata": {
        "id": "aQnoB5oe-y_4"
      }
    },
    {
      "cell_type": "code",
      "source": [
        "plt.figure(figsize=(15,5))\n",
        "plt.plot(monthly_sales['Date'], monthly_sales['QTY'])\n",
        "plt.xlabel('Date')\n",
        "plt.ylabel('TOTAL')\n",
        "plt.title(\"Monthly Product Sales\")\n",
        "plt.show()"
      ],
      "metadata": {
        "colab": {
          "base_uri": "https://localhost:8080/",
          "height": 350
        },
        "id": "0kzWbiyP6xCa",
        "outputId": "edb401ad-ae87-4a47-cb1b-d5cfcf4755ae"
      },
      "execution_count": 18,
      "outputs": [
        {
          "output_type": "display_data",
          "data": {
            "text/plain": [
              "<Figure size 1080x360 with 1 Axes>"
            ],
            "image/png": "[encoded data removed]"
          },
          "metadata": {
            "needs_background": "light"
          }
        }
      ]
    },
    {
      "cell_type": "markdown",
      "source": [
        "Time Plot"
      ],
      "metadata": {
        "id": "W4j3_trm_z-U"
      }
    },
    {
      "cell_type": "code",
      "source": [
        "df_new = monthly_sales.copy()\n",
        "df_new['Time'] = np.arange(len(df_new.index))\n",
        "\n",
        "df_new.head()"
      ],
      "metadata": {
        "colab": {
          "base_uri": "https://localhost:8080/",
          "height": 206
        },
        "id": "hYKNQyC5_y2P",
        "outputId": "6a1cd2ab-7eec-4243-8bdc-88e8e3e922eb"
      },
      "execution_count": 19,
      "outputs": [
        {
          "output_type": "execute_result",
          "data": {
            "text/plain": [
              "        Date       QTY  Time\n",
              "0 2022-01-01  38855.50     0\n",
              "1 2022-02-01  30831.85     1\n",
              "2 2022-03-01  27753.50     2\n",
              "3 2022-04-01  31835.38     3\n",
              "4 2022-05-01  30124.15     4"
            ],
            "text/html": [
              "\n",
              "  <div id=\"df-198dea0b-ff83-4d1e-8642-016569dd7e6d\">\n",
              "    <div class=\"colab-df-container\">\n",
              "      <div>\n",
              "<style scoped>\n",
              "    .dataframe tbody tr th:only-of-type {\n",
              "        vertical-align: middle;\n",
              "    }\n",
              "\n",
              "    .dataframe tbody tr th {\n",
              "        vertical-align: top;\n",
              "    }\n",
              "\n",
              "    .dataframe thead th {\n",
              "        text-align: right;\n",
              "    }\n",
              "</style>\n",
              "<table border=\"1\" class=\"dataframe\">\n",
              "  <thead>\n",
              "    <tr style=\"text-align: right;\">\n",
              "      <th></th>\n",
              "      <th>Date</th>\n",
              "      <th>QTY</th>\n",
              "      <th>Time</th>\n",
              "    </tr>\n",
              "  </thead>\n",
              "  <tbody>\n",
              "    <tr>\n",
              "      <th>0</th>\n",
              "      <td>2022-01-01</td>\n",
              "      <td>38855.50</td>\n",
              "      <td>0</td>\n",
              "    </tr>\n",
              "    <tr>\n",
              "      <th>1</th>\n",
              "      <td>2022-02-01</td>\n",
              "      <td>30831.85</td>\n",
              "      <td>1</td>\n",
              "    </tr>\n",
              "    <tr>\n",
              "      <th>2</th>\n",
              "      <td>2022-03-01</td>\n",
              "      <td>27753.50</td>\n",
              "      <td>2</td>\n",
              "    </tr>\n",
              "    <tr>\n",
              "      <th>3</th>\n",
              "      <td>2022-04-01</td>\n",
              "      <td>31835.38</td>\n",
              "      <td>3</td>\n",
              "    </tr>\n",
              "    <tr>\n",
              "      <th>4</th>\n",
              "      <td>2022-05-01</td>\n",
              "      <td>30124.15</td>\n",
              "      <td>4</td>\n",
              "    </tr>\n",
              "  </tbody>\n",
              "</table>\n",
              "</div>\n",
              "      <button class=\"colab-df-convert\" onclick=\"convertToInteractive('df-198dea0b-ff83-4d1e-8642-016569dd7e6d')\"\n",
              "              title=\"Convert this dataframe to an interactive table.\"\n",
              "              style=\"display:none;\">\n",
              "        \n",
              "  <svg xmlns=\"http://www.w3.org/2000/svg\" height=\"24px\"viewBox=\"0 0 24 24\"\n",
              "       width=\"24px\">\n",
              "    <path d=\"M0 0h24v24H0V0z\" fill=\"none\"/>\n",
              "    <path d=\"M18.56 5.44l.94 2.06.94-2.06 2.06-.94-2.06-.94-.94-2.06-.94 2.06-2.06.94zm-11 1L8.5 8.5l.94-2.06 2.06-.94-2.06-.94L8.5 2.5l-.94 2.06-2.06.94zm10 10l.94 2.06.94-2.06 2.06-.94-2.06-.94-.94-2.06-.94 2.06-2.06.94z\"/><path d=\"M17.41 7.96l-1.37-1.37c-.4-.4-.92-.59-1.43-.59-.52 0-1.04.2-1.43.59L10.3 9.45l-7.72 7.72c-.78.78-.78 2.05 0 2.83L4 21.41c.39.39.9.59 1.41.59.51 0 1.02-.2 1.41-.59l7.78-7.78 2.81-2.81c.8-.78.8-2.07 0-2.86zM5.41 20L4 18.59l7.72-7.72 1.47 1.35L5.41 20z\"/>\n",
              "  </svg>\n",
              "      </button>\n",
              "      \n",
              "  <style>\n",
              "    .colab-df-container {\n",
              "      display:flex;\n",
              "      flex-wrap:wrap;\n",
              "      gap: 12px;\n",
              "    }\n",
              "\n",
              "    .colab-df-convert {\n",
              "      background-color: #E8F0FE;\n",
              "      border: none;\n",
              "      border-radius: 50%;\n",
              "      cursor: pointer;\n",
              "      display: none;\n",
              "      fill: #1967D2;\n",
              "      height: 32px;\n",
              "      padding: 0 0 0 0;\n",
              "      width: 32px;\n",
              "    }\n",
              "\n",
              "    .colab-df-convert:hover {\n",
              "      background-color: #E2EBFA;\n",
              "      box-shadow: 0px 1px 2px rgba(60, 64, 67, 0.3), 0px 1px 3px 1px rgba(60, 64, 67, 0.15);\n",
              "      fill: #174EA6;\n",
              "    }\n",
              "\n",
              "    [theme=dark] .colab-df-convert {\n",
              "      background-color: #3B4455;\n",
              "      fill: #D2E3FC;\n",
              "    }\n",
              "\n",
              "    [theme=dark] .colab-df-convert:hover {\n",
              "      background-color: #434B5C;\n",
              "      box-shadow: 0px 1px 3px 1px rgba(0, 0, 0, 0.15);\n",
              "      filter: drop-shadow(0px 1px 2px rgba(0, 0, 0, 0.3));\n",
              "      fill: #FFFFFF;\n",
              "    }\n",
              "  </style>\n",
              "\n",
              "      <script>\n",
              "        const buttonEl =\n",
              "          document.querySelector('#df-198dea0b-ff83-4d1e-8642-016569dd7e6d button.colab-df-convert');\n",
              "        buttonEl.style.display =\n",
              "          google.colab.kernel.accessAllowed ? 'block' : 'none';\n",
              "\n",
              "        async function convertToInteractive(key) {\n",
              "          const element = document.querySelector('#df-198dea0b-ff83-4d1e-8642-016569dd7e6d');\n",
              "          const dataTable =\n",
              "            await google.colab.kernel.invokeFunction('convertToInteractive',\n",
              "                                                     [key], {});\n",
              "          if (!dataTable) return;\n",
              "\n",
              "          const docLinkHtml = 'Like what you see? Visit the ' +\n",
              "            '<a target=\"_blank\" href=https://colab.research.google.com/notebooks/data_table.ipynb>data table notebook</a>'\n",
              "            + ' to learn more about interactive tables.';\n",
              "          element.innerHTML = '';\n",
              "          dataTable['output_type'] = 'display_data';\n",
              "          await google.colab.output.renderOutput(dataTable, element);\n",
              "          const docLink = document.createElement('div');\n",
              "          docLink.innerHTML = docLinkHtml;\n",
              "          element.appendChild(docLink);\n",
              "        }\n",
              "      </script>\n",
              "    </div>\n",
              "  </div>\n",
              "  "
            ]
          },
          "metadata": {},
          "execution_count": 19
        }
      ]
    },
    {
      "cell_type": "code",
      "source": [
        "monthly_sales"
      ],
      "metadata": {
        "colab": {
          "base_uri": "https://localhost:8080/",
          "height": 425
        },
        "id": "RH1swNXFASZk",
        "outputId": "e036520e-fff7-47f2-ddd7-e536ae765aae"
      },
      "execution_count": 20,
      "outputs": [
        {
          "output_type": "execute_result",
          "data": {
            "text/plain": [
              "         Date       QTY\n",
              "0  2022-01-01  38855.50\n",
              "1  2022-02-01  30831.85\n",
              "2  2022-03-01  27753.50\n",
              "3  2022-04-01  31835.38\n",
              "4  2022-05-01  30124.15\n",
              "5  2022-06-01  26870.37\n",
              "6  2022-07-01  33578.60\n",
              "7  2022-08-01  31325.47\n",
              "8  2022-09-01  29487.76\n",
              "9  2022-10-01  29907.18\n",
              "10 2022-11-01  11684.43\n",
              "11 2022-12-01   9842.18"
            ],
            "text/html": [
              "\n",
              "  <div id=\"df-48506619-c054-41bb-9f5c-1f7713cd94d9\">\n",
              "    <div class=\"colab-df-container\">\n",
              "      <div>\n",
              "<style scoped>\n",
              "    .dataframe tbody tr th:only-of-type {\n",
              "        vertical-align: middle;\n",
              "    }\n",
              "\n",
              "    .dataframe tbody tr th {\n",
              "        vertical-align: top;\n",
              "    }\n",
              "\n",
              "    .dataframe thead th {\n",
              "        text-align: right;\n",
              "    }\n",
              "</style>\n",
              "<table border=\"1\" class=\"dataframe\">\n",
              "  <thead>\n",
              "    <tr style=\"text-align: right;\">\n",
              "      <th></th>\n",
              "      <th>Date</th>\n",
              "      <th>QTY</th>\n",
              "    </tr>\n",
              "  </thead>\n",
              "  <tbody>\n",
              "    <tr>\n",
              "      <th>0</th>\n",
              "      <td>2022-01-01</td>\n",
              "      <td>38855.50</td>\n",
              "    </tr>\n",
              "    <tr>\n",
              "      <th>1</th>\n",
              "      <td>2022-02-01</td>\n",
              "      <td>30831.85</td>\n",
              "    </tr>\n",
              "    <tr>\n",
              "      <th>2</th>\n",
              "      <td>2022-03-01</td>\n",
              "      <td>27753.50</td>\n",
              "    </tr>\n",
              "    <tr>\n",
              "      <th>3</th>\n",
              "      <td>2022-04-01</td>\n",
              "      <td>31835.38</td>\n",
              "    </tr>\n",
              "    <tr>\n",
              "      <th>4</th>\n",
              "      <td>2022-05-01</td>\n",
              "      <td>30124.15</td>\n",
              "    </tr>\n",
              "    <tr>\n",
              "      <th>5</th>\n",
              "      <td>2022-06-01</td>\n",
              "      <td>26870.37</td>\n",
              "    </tr>\n",
              "    <tr>\n",
              "      <th>6</th>\n",
              "      <td>2022-07-01</td>\n",
              "      <td>33578.60</td>\n",
              "    </tr>\n",
              "    <tr>\n",
              "      <th>7</th>\n",
              "      <td>2022-08-01</td>\n",
              "      <td>31325.47</td>\n",
              "    </tr>\n",
              "    <tr>\n",
              "      <th>8</th>\n",
              "      <td>2022-09-01</td>\n",
              "      <td>29487.76</td>\n",
              "    </tr>\n",
              "    <tr>\n",
              "      <th>9</th>\n",
              "      <td>2022-10-01</td>\n",
              "      <td>29907.18</td>\n",
              "    </tr>\n",
              "    <tr>\n",
              "      <th>10</th>\n",
              "      <td>2022-11-01</td>\n",
              "      <td>11684.43</td>\n",
              "    </tr>\n",
              "    <tr>\n",
              "      <th>11</th>\n",
              "      <td>2022-12-01</td>\n",
              "      <td>9842.18</td>\n",
              "    </tr>\n",
              "  </tbody>\n",
              "</table>\n",
              "</div>\n",
              "      <button class=\"colab-df-convert\" onclick=\"convertToInteractive('df-48506619-c054-41bb-9f5c-1f7713cd94d9')\"\n",
              "              title=\"Convert this dataframe to an interactive table.\"\n",
              "              style=\"display:none;\">\n",
              "        \n",
              "  <svg xmlns=\"http://www.w3.org/2000/svg\" height=\"24px\"viewBox=\"0 0 24 24\"\n",
              "       width=\"24px\">\n",
              "    <path d=\"M0 0h24v24H0V0z\" fill=\"none\"/>\n",
              "    <path d=\"M18.56 5.44l.94 2.06.94-2.06 2.06-.94-2.06-.94-.94-2.06-.94 2.06-2.06.94zm-11 1L8.5 8.5l.94-2.06 2.06-.94-2.06-.94L8.5 2.5l-.94 2.06-2.06.94zm10 10l.94 2.06.94-2.06 2.06-.94-2.06-.94-.94-2.06-.94 2.06-2.06.94z\"/><path d=\"M17.41 7.96l-1.37-1.37c-.4-.4-.92-.59-1.43-.59-.52 0-1.04.2-1.43.59L10.3 9.45l-7.72 7.72c-.78.78-.78 2.05 0 2.83L4 21.41c.39.39.9.59 1.41.59.51 0 1.02-.2 1.41-.59l7.78-7.78 2.81-2.81c.8-.78.8-2.07 0-2.86zM5.41 20L4 18.59l7.72-7.72 1.47 1.35L5.41 20z\"/>\n",
              "  </svg>\n",
              "      </button>\n",
              "      \n",
              "  <style>\n",
              "    .colab-df-container {\n",
              "      display:flex;\n",
              "      flex-wrap:wrap;\n",
              "      gap: 12px;\n",
              "    }\n",
              "\n",
              "    .colab-df-convert {\n",
              "      background-color: #E8F0FE;\n",
              "      border: none;\n",
              "      border-radius: 50%;\n",
              "      cursor: pointer;\n",
              "      display: none;\n",
              "      fill: #1967D2;\n",
              "      height: 32px;\n",
              "      padding: 0 0 0 0;\n",
              "      width: 32px;\n",
              "    }\n",
              "\n",
              "    .colab-df-convert:hover {\n",
              "      background-color: #E2EBFA;\n",
              "      box-shadow: 0px 1px 2px rgba(60, 64, 67, 0.3), 0px 1px 3px 1px rgba(60, 64, 67, 0.15);\n",
              "      fill: #174EA6;\n",
              "    }\n",
              "\n",
              "    [theme=dark] .colab-df-convert {\n",
              "      background-color: #3B4455;\n",
              "      fill: #D2E3FC;\n",
              "    }\n",
              "\n",
              "    [theme=dark] .colab-df-convert:hover {\n",
              "      background-color: #434B5C;\n",
              "      box-shadow: 0px 1px 3px 1px rgba(0, 0, 0, 0.15);\n",
              "      filter: drop-shadow(0px 1px 2px rgba(0, 0, 0, 0.3));\n",
              "      fill: #FFFFFF;\n",
              "    }\n",
              "  </style>\n",
              "\n",
              "      <script>\n",
              "        const buttonEl =\n",
              "          document.querySelector('#df-48506619-c054-41bb-9f5c-1f7713cd94d9 button.colab-df-convert');\n",
              "        buttonEl.style.display =\n",
              "          google.colab.kernel.accessAllowed ? 'block' : 'none';\n",
              "\n",
              "        async function convertToInteractive(key) {\n",
              "          const element = document.querySelector('#df-48506619-c054-41bb-9f5c-1f7713cd94d9');\n",
              "          const dataTable =\n",
              "            await google.colab.kernel.invokeFunction('convertToInteractive',\n",
              "                                                     [key], {});\n",
              "          if (!dataTable) return;\n",
              "\n",
              "          const docLinkHtml = 'Like what you see? Visit the ' +\n",
              "            '<a target=\"_blank\" href=https://colab.research.google.com/notebooks/data_table.ipynb>data table notebook</a>'\n",
              "            + ' to learn more about interactive tables.';\n",
              "          element.innerHTML = '';\n",
              "          dataTable['output_type'] = 'display_data';\n",
              "          await google.colab.output.renderOutput(dataTable, element);\n",
              "          const docLink = document.createElement('div');\n",
              "          docLink.innerHTML = docLinkHtml;\n",
              "          element.appendChild(docLink);\n",
              "        }\n",
              "      </script>\n",
              "    </div>\n",
              "  </div>\n",
              "  "
            ]
          },
          "metadata": {},
          "execution_count": 20
        }
      ]
    },
    {
      "cell_type": "code",
      "source": [
        "import matplotlib.pyplot as plt\n",
        "import seaborn as sns\n",
        "plt.style.use(\"seaborn-whitegrid\")\n",
        "plt.rc(\n",
        "    \"figure\",\n",
        "    autolayout=True,\n",
        "    figsize=(11, 4),\n",
        "    titlesize=18,\n",
        "    titleweight='bold',\n",
        ")\n",
        "plt.rc(\n",
        "    \"axes\",\n",
        "    labelweight=\"bold\",\n",
        "    labelsize=\"large\",\n",
        "    titleweight=\"bold\",\n",
        "    titlesize=16,\n",
        "    titlepad=10,\n",
        "    )\n",
        "\n",
        "fig, ax = plt.subplots()\n",
        "ax.plot('Time', 'QTY', data=df_new, color='0.75')\n",
        "ax = sns.regplot(x='Time', y='QTY', data=df_new, ci=None, scatter_kws=dict(color='0.25'))\n",
        "ax.set_title('Time Plot of Product Sales');"
      ],
      "metadata": {
        "colab": {
          "base_uri": "https://localhost:8080/",
          "height": 297
        },
        "id": "yAegaDFNAYH3",
        "outputId": "7e4c3cfe-a2df-4564-f662-efc5a759865a"
      },
      "execution_count": 21,
      "outputs": [
        {
          "output_type": "display_data",
          "data": {
            "text/plain": [
              "<Figure size 792x288 with 1 Axes>"
            ],
            "image/png": "[encoded data removed]"
          },
          "metadata": {}
        }
      ]
    },
    {
      "cell_type": "markdown",
      "source": [
        "Decreasing over time. So, we make it stationary. Calling difference on the QTY column to make data stationary"
      ],
      "metadata": {
        "id": "DEub4tXlBSSE"
      }
    },
    {
      "cell_type": "markdown",
      "source": [
        "To be asboslutely sure, we do adfuller test"
      ],
      "metadata": {
        "id": "BQqumg2KHBo0"
      }
    },
    {
      "cell_type": "code",
      "source": [
        "### Testing For Stationarity\n",
        "\n",
        "from statsmodels.tsa.stattools import adfuller"
      ],
      "metadata": {
        "id": "EPXuLEZZHLrA"
      },
      "execution_count": 22,
      "outputs": []
    },
    {
      "cell_type": "code",
      "source": [
        "test_result=adfuller(monthly_sales['QTY'])"
      ],
      "metadata": {
        "id": "UIhvKwxYHQe8"
      },
      "execution_count": 23,
      "outputs": []
    },
    {
      "cell_type": "code",
      "source": [
        "#Ho: It is non stationary\n",
        "#H1: It is stationary\n",
        "\n",
        "def adfuller_test(sales):\n",
        "    result=adfuller(sales)\n",
        "    labels = ['ADF Test Statistic','p-value','#Lags Used','Number of Observations Used']\n",
        "    for value,label in zip(result,labels):\n",
        "        print(label+' : '+str(value) )\n",
        "    if result[1] <= 0.05:\n",
        "        print(\"strong evidence against the null hypothesis(Ho), reject the null hypothesis. Data has no unit root and is stationary\")\n",
        "    else:\n",
        "        print(\"weak evidence against null hypothesis, time series has a unit root, indicating it is non-stationary \")\n",
        "    "
      ],
      "metadata": {
        "id": "5pnDqBDRHe40"
      },
      "execution_count": 24,
      "outputs": []
    },
    {
      "cell_type": "code",
      "source": [
        "adfuller_test(monthly_sales['QTY'])"
      ],
      "metadata": {
        "colab": {
          "base_uri": "https://localhost:8080/"
        },
        "id": "OxD-EwSpHl_E",
        "outputId": "ffc8181f-5d94-4279-c102-7eb6065764ca"
      },
      "execution_count": 25,
      "outputs": [
        {
          "output_type": "stream",
          "name": "stdout",
          "text": [
            "ADF Test Statistic : -0.4721116415963219\n",
            "p-value : 0.8973447892476756\n",
            "#Lags Used : 3\n",
            "Number of Observations Used : 8\n",
            "weak evidence against null hypothesis, time series has a unit root, indicating it is non-stationary \n"
          ]
        }
      ]
    },
    {
      "cell_type": "code",
      "source": [
        "monthly_sales['TOTAL_diff'] = monthly_sales['QTY'].diff() #current month sale - previous month sale\n",
        "monthly_sales = monthly_sales.dropna() #removing row with null value\n",
        "monthly_sales.head"
      ],
      "metadata": {
        "colab": {
          "base_uri": "https://localhost:8080/"
        },
        "id": "lRzklycc7D0M",
        "outputId": "710be818-990d-4b26-9426-2a19980e14d4"
      },
      "execution_count": 26,
      "outputs": [
        {
          "output_type": "execute_result",
          "data": {
            "text/plain": [
              "<bound method NDFrame.head of          Date       QTY  TOTAL_diff\n",
              "1  2022-02-01  30831.85    -8023.65\n",
              "2  2022-03-01  27753.50    -3078.35\n",
              "3  2022-04-01  31835.38     4081.88\n",
              "4  2022-05-01  30124.15    -1711.23\n",
              "5  2022-06-01  26870.37    -3253.78\n",
              "6  2022-07-01  33578.60     6708.23\n",
              "7  2022-08-01  31325.47    -2253.13\n",
              "8  2022-09-01  29487.76    -1837.71\n",
              "9  2022-10-01  29907.18      419.42\n",
              "10 2022-11-01  11684.43   -18222.75\n",
              "11 2022-12-01   9842.18    -1842.25>"
            ]
          },
          "metadata": {},
          "execution_count": 26
        }
      ]
    },
    {
      "cell_type": "code",
      "source": [
        "monthly_sales.head()"
      ],
      "metadata": {
        "colab": {
          "base_uri": "https://localhost:8080/",
          "height": 206
        },
        "id": "OUHlGZpHDVN6",
        "outputId": "f2ba49db-135f-4b36-a34d-b98a4eb6a15b"
      },
      "execution_count": 27,
      "outputs": [
        {
          "output_type": "execute_result",
          "data": {
            "text/plain": [
              "        Date       QTY  TOTAL_diff\n",
              "1 2022-02-01  30831.85    -8023.65\n",
              "2 2022-03-01  27753.50    -3078.35\n",
              "3 2022-04-01  31835.38     4081.88\n",
              "4 2022-05-01  30124.15    -1711.23\n",
              "5 2022-06-01  26870.37    -3253.78"
            ],
            "text/html": [
              "\n",
              "  <div id=\"df-a95fe4ae-ee89-4941-874c-81918efe53a8\">\n",
              "    <div class=\"colab-df-container\">\n",
              "      <div>\n",
              "<style scoped>\n",
              "    .dataframe tbody tr th:only-of-type {\n",
              "        vertical-align: middle;\n",
              "    }\n",
              "\n",
              "    .dataframe tbody tr th {\n",
              "        vertical-align: top;\n",
              "    }\n",
              "\n",
              "    .dataframe thead th {\n",
              "        text-align: right;\n",
              "    }\n",
              "</style>\n",
              "<table border=\"1\" class=\"dataframe\">\n",
              "  <thead>\n",
              "    <tr style=\"text-align: right;\">\n",
              "      <th></th>\n",
              "      <th>Date</th>\n",
              "      <th>QTY</th>\n",
              "      <th>TOTAL_diff</th>\n",
              "    </tr>\n",
              "  </thead>\n",
              "  <tbody>\n",
              "    <tr>\n",
              "      <th>1</th>\n",
              "      <td>2022-02-01</td>\n",
              "      <td>30831.85</td>\n",
              "      <td>-8023.65</td>\n",
              "    </tr>\n",
              "    <tr>\n",
              "      <th>2</th>\n",
              "      <td>2022-03-01</td>\n",
              "      <td>27753.50</td>\n",
              "      <td>-3078.35</td>\n",
              "    </tr>\n",
              "    <tr>\n",
              "      <th>3</th>\n",
              "      <td>2022-04-01</td>\n",
              "      <td>31835.38</td>\n",
              "      <td>4081.88</td>\n",
              "    </tr>\n",
              "    <tr>\n",
              "      <th>4</th>\n",
              "      <td>2022-05-01</td>\n",
              "      <td>30124.15</td>\n",
              "      <td>-1711.23</td>\n",
              "    </tr>\n",
              "    <tr>\n",
              "      <th>5</th>\n",
              "      <td>2022-06-01</td>\n",
              "      <td>26870.37</td>\n",
              "      <td>-3253.78</td>\n",
              "    </tr>\n",
              "  </tbody>\n",
              "</table>\n",
              "</div>\n",
              "      <button class=\"colab-df-convert\" onclick=\"convertToInteractive('df-a95fe4ae-ee89-4941-874c-81918efe53a8')\"\n",
              "              title=\"Convert this dataframe to an interactive table.\"\n",
              "              style=\"display:none;\">\n",
              "        \n",
              "  <svg xmlns=\"http://www.w3.org/2000/svg\" height=\"24px\"viewBox=\"0 0 24 24\"\n",
              "       width=\"24px\">\n",
              "    <path d=\"M0 0h24v24H0V0z\" fill=\"none\"/>\n",
              "    <path d=\"M18.56 5.44l.94 2.06.94-2.06 2.06-.94-2.06-.94-.94-2.06-.94 2.06-2.06.94zm-11 1L8.5 8.5l.94-2.06 2.06-.94-2.06-.94L8.5 2.5l-.94 2.06-2.06.94zm10 10l.94 2.06.94-2.06 2.06-.94-2.06-.94-.94-2.06-.94 2.06-2.06.94z\"/><path d=\"M17.41 7.96l-1.37-1.37c-.4-.4-.92-.59-1.43-.59-.52 0-1.04.2-1.43.59L10.3 9.45l-7.72 7.72c-.78.78-.78 2.05 0 2.83L4 21.41c.39.39.9.59 1.41.59.51 0 1.02-.2 1.41-.59l7.78-7.78 2.81-2.81c.8-.78.8-2.07 0-2.86zM5.41 20L4 18.59l7.72-7.72 1.47 1.35L5.41 20z\"/>\n",
              "  </svg>\n",
              "      </button>\n",
              "      \n",
              "  <style>\n",
              "    .colab-df-container {\n",
              "      display:flex;\n",
              "      flex-wrap:wrap;\n",
              "      gap: 12px;\n",
              "    }\n",
              "\n",
              "    .colab-df-convert {\n",
              "      background-color: #E8F0FE;\n",
              "      border: none;\n",
              "      border-radius: 50%;\n",
              "      cursor: pointer;\n",
              "      display: none;\n",
              "      fill: #1967D2;\n",
              "      height: 32px;\n",
              "      padding: 0 0 0 0;\n",
              "      width: 32px;\n",
              "    }\n",
              "\n",
              "    .colab-df-convert:hover {\n",
              "      background-color: #E2EBFA;\n",
              "      box-shadow: 0px 1px 2px rgba(60, 64, 67, 0.3), 0px 1px 3px 1px rgba(60, 64, 67, 0.15);\n",
              "      fill: #174EA6;\n",
              "    }\n",
              "\n",
              "    [theme=dark] .colab-df-convert {\n",
              "      background-color: #3B4455;\n",
              "      fill: #D2E3FC;\n",
              "    }\n",
              "\n",
              "    [theme=dark] .colab-df-convert:hover {\n",
              "      background-color: #434B5C;\n",
              "      box-shadow: 0px 1px 3px 1px rgba(0, 0, 0, 0.15);\n",
              "      filter: drop-shadow(0px 1px 2px rgba(0, 0, 0, 0.3));\n",
              "      fill: #FFFFFF;\n",
              "    }\n",
              "  </style>\n",
              "\n",
              "      <script>\n",
              "        const buttonEl =\n",
              "          document.querySelector('#df-a95fe4ae-ee89-4941-874c-81918efe53a8 button.colab-df-convert');\n",
              "        buttonEl.style.display =\n",
              "          google.colab.kernel.accessAllowed ? 'block' : 'none';\n",
              "\n",
              "        async function convertToInteractive(key) {\n",
              "          const element = document.querySelector('#df-a95fe4ae-ee89-4941-874c-81918efe53a8');\n",
              "          const dataTable =\n",
              "            await google.colab.kernel.invokeFunction('convertToInteractive',\n",
              "                                                     [key], {});\n",
              "          if (!dataTable) return;\n",
              "\n",
              "          const docLinkHtml = 'Like what you see? Visit the ' +\n",
              "            '<a target=\"_blank\" href=https://colab.research.google.com/notebooks/data_table.ipynb>data table notebook</a>'\n",
              "            + ' to learn more about interactive tables.';\n",
              "          element.innerHTML = '';\n",
              "          dataTable['output_type'] = 'display_data';\n",
              "          await google.colab.output.renderOutput(dataTable, element);\n",
              "          const docLink = document.createElement('div');\n",
              "          docLink.innerHTML = docLinkHtml;\n",
              "          element.appendChild(docLink);\n",
              "        }\n",
              "      </script>\n",
              "    </div>\n",
              "  </div>\n",
              "  "
            ]
          },
          "metadata": {},
          "execution_count": 27
        }
      ]
    },
    {
      "cell_type": "code",
      "source": [
        "plt.figure(figsize=(15,5))\n",
        "plt.plot(monthly_sales['Date'], monthly_sales['TOTAL_diff'])\n",
        "plt.xlabel('Date')\n",
        "plt.ylabel('TOTAL_diff')\n",
        "plt.title(\"Monthly Customer sales Difference\")\n",
        "plt.show()"
      ],
      "metadata": {
        "colab": {
          "base_uri": "https://localhost:8080/",
          "height": 369
        },
        "id": "yXqMOEIP7RVF",
        "outputId": "aaaafac5-5367-47c9-9bb2-21ded88226a8"
      },
      "execution_count": 28,
      "outputs": [
        {
          "output_type": "display_data",
          "data": {
            "text/plain": [
              "<Figure size 1080x360 with 1 Axes>"
            ],
            "image/png": "[encoded data removed]"
          },
          "metadata": {}
        }
      ]
    },
    {
      "cell_type": "code",
      "source": [
        "df_new = monthly_sales.copy()\n",
        "df_new['Time'] = np.arange(len(df_new.index))\n",
        "\n",
        "\n",
        "import matplotlib.pyplot as plt\n",
        "import seaborn as sns\n",
        "plt.style.use(\"seaborn-whitegrid\")\n",
        "plt.rc(\n",
        "    \"figure\",\n",
        "    autolayout=True,\n",
        "    figsize=(11, 4),\n",
        "    titlesize=18,\n",
        "    titleweight='bold',\n",
        ")\n",
        "plt.rc(\n",
        "    \"axes\",\n",
        "    labelweight=\"bold\",\n",
        "    labelsize=\"large\",\n",
        "    titleweight=\"bold\",\n",
        "    titlesize=16,\n",
        "    titlepad=10,\n",
        "    )\n",
        "\n",
        "fig, ax = plt.subplots()\n",
        "ax.plot('Time', 'TOTAL_diff', data=df_new, color='0.75')\n",
        "ax = sns.regplot(x='Time', y='TOTAL_diff', data=df_new, ci=None, scatter_kws=dict(color='0.25'))\n",
        "ax.set_title('Time Plot of Monthly Product Sales difference');"
      ],
      "metadata": {
        "colab": {
          "base_uri": "https://localhost:8080/",
          "height": 297
        },
        "id": "J2IiY5kLE9Mf",
        "outputId": "4294599e-4242-4e72-c0a2-e6311cc2079a"
      },
      "execution_count": 29,
      "outputs": [
        {
          "output_type": "display_data",
          "data": {
            "text/plain": [
              "<Figure size 792x288 with 1 Axes>"
            ],
            "image/png": "[encoded data removed]"
          },
          "metadata": {}
        }
      ]
    },
    {
      "cell_type": "markdown",
      "source": [
        "Dropping Date & QTY"
      ],
      "metadata": {
        "id": "zjvOyeGmKZou"
      }
    },
    {
      "cell_type": "code",
      "source": [
        "supervised_data=monthly_sales.drop(['Date','QTY'],axis=1)"
      ],
      "metadata": {
        "id": "lvf1j-BA15N3"
      },
      "execution_count": 30,
      "outputs": []
    },
    {
      "cell_type": "markdown",
      "source": [
        "preparing supervised data with training for 3 months and then testing in the next 3 cause the data gets shortened a lot "
      ],
      "metadata": {
        "id": "mcszjefyK8_C"
      }
    },
    {
      "cell_type": "code",
      "source": [
        "for i in range(1,6): #Can not give 1,12 cause it would result in at least one nan value in every column. Thus iterating only 6 times\n",
        "    col_name = 'month_' + str(i)\n",
        "    supervised_data[col_name] = supervised_data['TOTAL_diff'].shift(i) #shift(i) means shifting the iterator for desired no. of periods\n",
        "    #print(supervised_data) #Run this for any confusion\n",
        "supervised_data = supervised_data.dropna().reset_index(drop=True) #dropping rows with nan values\n",
        "supervised_data\n",
        "#For any time series, preprocess data in such a way that we can create ind. and dep. features based on no. of time steps"
      ],
      "metadata": {
        "colab": {
          "base_uri": "https://localhost:8080/",
          "height": 237
        },
        "id": "pElEyxmD8JnM",
        "outputId": "d2788ece-9fa3-4af3-e363-ab689e3a31fd"
      },
      "execution_count": 31,
      "outputs": [
        {
          "output_type": "execute_result",
          "data": {
            "text/plain": [
              "   TOTAL_diff   month_1  month_2  month_3  month_4  month_5\n",
              "0     6708.23  -3253.78 -1711.23  4081.88 -3078.35 -8023.65\n",
              "1    -2253.13   6708.23 -3253.78 -1711.23  4081.88 -3078.35\n",
              "2    -1837.71  -2253.13  6708.23 -3253.78 -1711.23  4081.88\n",
              "3      419.42  -1837.71 -2253.13  6708.23 -3253.78 -1711.23\n",
              "4   -18222.75    419.42 -1837.71 -2253.13  6708.23 -3253.78\n",
              "5    -1842.25 -18222.75   419.42 -1837.71 -2253.13  6708.23"
            ],
            "text/html": [
              "\n",
              "  <div id=\"df-3f463907-7ad8-4b37-b375-580f24a406e2\">\n",
              "    <div class=\"colab-df-container\">\n",
              "      <div>\n",
              "<style scoped>\n",
              "    .dataframe tbody tr th:only-of-type {\n",
              "        vertical-align: middle;\n",
              "    }\n",
              "\n",
              "    .dataframe tbody tr th {\n",
              "        vertical-align: top;\n",
              "    }\n",
              "\n",
              "    .dataframe thead th {\n",
              "        text-align: right;\n",
              "    }\n",
              "</style>\n",
              "<table border=\"1\" class=\"dataframe\">\n",
              "  <thead>\n",
              "    <tr style=\"text-align: right;\">\n",
              "      <th></th>\n",
              "      <th>TOTAL_diff</th>\n",
              "      <th>month_1</th>\n",
              "      <th>month_2</th>\n",
              "      <th>month_3</th>\n",
              "      <th>month_4</th>\n",
              "      <th>month_5</th>\n",
              "    </tr>\n",
              "  </thead>\n",
              "  <tbody>\n",
              "    <tr>\n",
              "      <th>0</th>\n",
              "      <td>6708.23</td>\n",
              "      <td>-3253.78</td>\n",
              "      <td>-1711.23</td>\n",
              "      <td>4081.88</td>\n",
              "      <td>-3078.35</td>\n",
              "      <td>-8023.65</td>\n",
              "    </tr>\n",
              "    <tr>\n",
              "      <th>1</th>\n",
              "      <td>-2253.13</td>\n",
              "      <td>6708.23</td>\n",
              "      <td>-3253.78</td>\n",
              "      <td>-1711.23</td>\n",
              "      <td>4081.88</td>\n",
              "      <td>-3078.35</td>\n",
              "    </tr>\n",
              "    <tr>\n",
              "      <th>2</th>\n",
              "      <td>-1837.71</td>\n",
              "      <td>-2253.13</td>\n",
              "      <td>6708.23</td>\n",
              "      <td>-3253.78</td>\n",
              "      <td>-1711.23</td>\n",
              "      <td>4081.88</td>\n",
              "    </tr>\n",
              "    <tr>\n",
              "      <th>3</th>\n",
              "      <td>419.42</td>\n",
              "      <td>-1837.71</td>\n",
              "      <td>-2253.13</td>\n",
              "      <td>6708.23</td>\n",
              "      <td>-3253.78</td>\n",
              "      <td>-1711.23</td>\n",
              "    </tr>\n",
              "    <tr>\n",
              "      <th>4</th>\n",
              "      <td>-18222.75</td>\n",
              "      <td>419.42</td>\n",
              "      <td>-1837.71</td>\n",
              "      <td>-2253.13</td>\n",
              "      <td>6708.23</td>\n",
              "      <td>-3253.78</td>\n",
              "    </tr>\n",
              "    <tr>\n",
              "      <th>5</th>\n",
              "      <td>-1842.25</td>\n",
              "      <td>-18222.75</td>\n",
              "      <td>419.42</td>\n",
              "      <td>-1837.71</td>\n",
              "      <td>-2253.13</td>\n",
              "      <td>6708.23</td>\n",
              "    </tr>\n",
              "  </tbody>\n",
              "</table>\n",
              "</div>\n",
              "      <button class=\"colab-df-convert\" onclick=\"convertToInteractive('df-3f463907-7ad8-4b37-b375-580f24a406e2')\"\n",
              "              title=\"Convert this dataframe to an interactive table.\"\n",
              "              style=\"display:none;\">\n",
              "        \n",
              "  <svg xmlns=\"http://www.w3.org/2000/svg\" height=\"24px\"viewBox=\"0 0 24 24\"\n",
              "       width=\"24px\">\n",
              "    <path d=\"M0 0h24v24H0V0z\" fill=\"none\"/>\n",
              "    <path d=\"M18.56 5.44l.94 2.06.94-2.06 2.06-.94-2.06-.94-.94-2.06-.94 2.06-2.06.94zm-11 1L8.5 8.5l.94-2.06 2.06-.94-2.06-.94L8.5 2.5l-.94 2.06-2.06.94zm10 10l.94 2.06.94-2.06 2.06-.94-2.06-.94-.94-2.06-.94 2.06-2.06.94z\"/><path d=\"M17.41 7.96l-1.37-1.37c-.4-.4-.92-.59-1.43-.59-.52 0-1.04.2-1.43.59L10.3 9.45l-7.72 7.72c-.78.78-.78 2.05 0 2.83L4 21.41c.39.39.9.59 1.41.59.51 0 1.02-.2 1.41-.59l7.78-7.78 2.81-2.81c.8-.78.8-2.07 0-2.86zM5.41 20L4 18.59l7.72-7.72 1.47 1.35L5.41 20z\"/>\n",
              "  </svg>\n",
              "      </button>\n",
              "      \n",
              "  <style>\n",
              "    .colab-df-container {\n",
              "      display:flex;\n",
              "      flex-wrap:wrap;\n",
              "      gap: 12px;\n",
              "    }\n",
              "\n",
              "    .colab-df-convert {\n",
              "      background-color: #E8F0FE;\n",
              "      border: none;\n",
              "      border-radius: 50%;\n",
              "      cursor: pointer;\n",
              "      display: none;\n",
              "      fill: #1967D2;\n",
              "      height: 32px;\n",
              "      padding: 0 0 0 0;\n",
              "      width: 32px;\n",
              "    }\n",
              "\n",
              "    .colab-df-convert:hover {\n",
              "      background-color: #E2EBFA;\n",
              "      box-shadow: 0px 1px 2px rgba(60, 64, 67, 0.3), 0px 1px 3px 1px rgba(60, 64, 67, 0.15);\n",
              "      fill: #174EA6;\n",
              "    }\n",
              "\n",
              "    [theme=dark] .colab-df-convert {\n",
              "      background-color: #3B4455;\n",
              "      fill: #D2E3FC;\n",
              "    }\n",
              "\n",
              "    [theme=dark] .colab-df-convert:hover {\n",
              "      background-color: #434B5C;\n",
              "      box-shadow: 0px 1px 3px 1px rgba(0, 0, 0, 0.15);\n",
              "      filter: drop-shadow(0px 1px 2px rgba(0, 0, 0, 0.3));\n",
              "      fill: #FFFFFF;\n",
              "    }\n",
              "  </style>\n",
              "\n",
              "      <script>\n",
              "        const buttonEl =\n",
              "          document.querySelector('#df-3f463907-7ad8-4b37-b375-580f24a406e2 button.colab-df-convert');\n",
              "        buttonEl.style.display =\n",
              "          google.colab.kernel.accessAllowed ? 'block' : 'none';\n",
              "\n",
              "        async function convertToInteractive(key) {\n",
              "          const element = document.querySelector('#df-3f463907-7ad8-4b37-b375-580f24a406e2');\n",
              "          const dataTable =\n",
              "            await google.colab.kernel.invokeFunction('convertToInteractive',\n",
              "                                                     [key], {});\n",
              "          if (!dataTable) return;\n",
              "\n",
              "          const docLinkHtml = 'Like what you see? Visit the ' +\n",
              "            '<a target=\"_blank\" href=https://colab.research.google.com/notebooks/data_table.ipynb>data table notebook</a>'\n",
              "            + ' to learn more about interactive tables.';\n",
              "          element.innerHTML = '';\n",
              "          dataTable['output_type'] = 'display_data';\n",
              "          await google.colab.output.renderOutput(dataTable, element);\n",
              "          const docLink = document.createElement('div');\n",
              "          docLink.innerHTML = docLinkHtml;\n",
              "          element.appendChild(docLink);\n",
              "        }\n",
              "      </script>\n",
              "    </div>\n",
              "  </div>\n",
              "  "
            ]
          },
          "metadata": {},
          "execution_count": 31
        }
      ]
    },
    {
      "cell_type": "markdown",
      "source": [
        "Train,test"
      ],
      "metadata": {
        "id": "rkUDrtByp08T"
      }
    },
    {
      "cell_type": "code",
      "source": [
        "print(supervised_data[:-3])\n",
        "supervised_data[-3:]"
      ],
      "metadata": {
        "colab": {
          "base_uri": "https://localhost:8080/",
          "height": 216
        },
        "id": "eByxW6OwqDgT",
        "outputId": "2122037a-9d18-4a33-c751-890033d28e45"
      },
      "execution_count": 32,
      "outputs": [
        {
          "output_type": "stream",
          "name": "stdout",
          "text": [
            "   TOTAL_diff  month_1  month_2  month_3  month_4  month_5\n",
            "0     6708.23 -3253.78 -1711.23  4081.88 -3078.35 -8023.65\n",
            "1    -2253.13  6708.23 -3253.78 -1711.23  4081.88 -3078.35\n",
            "2    -1837.71 -2253.13  6708.23 -3253.78 -1711.23  4081.88\n"
          ]
        },
        {
          "output_type": "execute_result",
          "data": {
            "text/plain": [
              "   TOTAL_diff   month_1  month_2  month_3  month_4  month_5\n",
              "3      419.42  -1837.71 -2253.13  6708.23 -3253.78 -1711.23\n",
              "4   -18222.75    419.42 -1837.71 -2253.13  6708.23 -3253.78\n",
              "5    -1842.25 -18222.75   419.42 -1837.71 -2253.13  6708.23"
            ],
            "text/html": [
              "\n",
              "  <div id=\"df-654cf6fa-cc0c-48dc-9977-5c921da68e9e\">\n",
              "    <div class=\"colab-df-container\">\n",
              "      <div>\n",
              "<style scoped>\n",
              "    .dataframe tbody tr th:only-of-type {\n",
              "        vertical-align: middle;\n",
              "    }\n",
              "\n",
              "    .dataframe tbody tr th {\n",
              "        vertical-align: top;\n",
              "    }\n",
              "\n",
              "    .dataframe thead th {\n",
              "        text-align: right;\n",
              "    }\n",
              "</style>\n",
              "<table border=\"1\" class=\"dataframe\">\n",
              "  <thead>\n",
              "    <tr style=\"text-align: right;\">\n",
              "      <th></th>\n",
              "      <th>TOTAL_diff</th>\n",
              "      <th>month_1</th>\n",
              "      <th>month_2</th>\n",
              "      <th>month_3</th>\n",
              "      <th>month_4</th>\n",
              "      <th>month_5</th>\n",
              "    </tr>\n",
              "  </thead>\n",
              "  <tbody>\n",
              "    <tr>\n",
              "      <th>3</th>\n",
              "      <td>419.42</td>\n",
              "      <td>-1837.71</td>\n",
              "      <td>-2253.13</td>\n",
              "      <td>6708.23</td>\n",
              "      <td>-3253.78</td>\n",
              "      <td>-1711.23</td>\n",
              "    </tr>\n",
              "    <tr>\n",
              "      <th>4</th>\n",
              "      <td>-18222.75</td>\n",
              "      <td>419.42</td>\n",
              "      <td>-1837.71</td>\n",
              "      <td>-2253.13</td>\n",
              "      <td>6708.23</td>\n",
              "      <td>-3253.78</td>\n",
              "    </tr>\n",
              "    <tr>\n",
              "      <th>5</th>\n",
              "      <td>-1842.25</td>\n",
              "      <td>-18222.75</td>\n",
              "      <td>419.42</td>\n",
              "      <td>-1837.71</td>\n",
              "      <td>-2253.13</td>\n",
              "      <td>6708.23</td>\n",
              "    </tr>\n",
              "  </tbody>\n",
              "</table>\n",
              "</div>\n",
              "      <button class=\"colab-df-convert\" onclick=\"convertToInteractive('df-654cf6fa-cc0c-48dc-9977-5c921da68e9e')\"\n",
              "              title=\"Convert this dataframe to an interactive table.\"\n",
              "              style=\"display:none;\">\n",
              "        \n",
              "  <svg xmlns=\"http://www.w3.org/2000/svg\" height=\"24px\"viewBox=\"0 0 24 24\"\n",
              "       width=\"24px\">\n",
              "    <path d=\"M0 0h24v24H0V0z\" fill=\"none\"/>\n",
              "    <path d=\"M18.56 5.44l.94 2.06.94-2.06 2.06-.94-2.06-.94-.94-2.06-.94 2.06-2.06.94zm-11 1L8.5 8.5l.94-2.06 2.06-.94-2.06-.94L8.5 2.5l-.94 2.06-2.06.94zm10 10l.94 2.06.94-2.06 2.06-.94-2.06-.94-.94-2.06-.94 2.06-2.06.94z\"/><path d=\"M17.41 7.96l-1.37-1.37c-.4-.4-.92-.59-1.43-.59-.52 0-1.04.2-1.43.59L10.3 9.45l-7.72 7.72c-.78.78-.78 2.05 0 2.83L4 21.41c.39.39.9.59 1.41.59.51 0 1.02-.2 1.41-.59l7.78-7.78 2.81-2.81c.8-.78.8-2.07 0-2.86zM5.41 20L4 18.59l7.72-7.72 1.47 1.35L5.41 20z\"/>\n",
              "  </svg>\n",
              "      </button>\n",
              "      \n",
              "  <style>\n",
              "    .colab-df-container {\n",
              "      display:flex;\n",
              "      flex-wrap:wrap;\n",
              "      gap: 12px;\n",
              "    }\n",
              "\n",
              "    .colab-df-convert {\n",
              "      background-color: #E8F0FE;\n",
              "      border: none;\n",
              "      border-radius: 50%;\n",
              "      cursor: pointer;\n",
              "      display: none;\n",
              "      fill: #1967D2;\n",
              "      height: 32px;\n",
              "      padding: 0 0 0 0;\n",
              "      width: 32px;\n",
              "    }\n",
              "\n",
              "    .colab-df-convert:hover {\n",
              "      background-color: #E2EBFA;\n",
              "      box-shadow: 0px 1px 2px rgba(60, 64, 67, 0.3), 0px 1px 3px 1px rgba(60, 64, 67, 0.15);\n",
              "      fill: #174EA6;\n",
              "    }\n",
              "\n",
              "    [theme=dark] .colab-df-convert {\n",
              "      background-color: #3B4455;\n",
              "      fill: #D2E3FC;\n",
              "    }\n",
              "\n",
              "    [theme=dark] .colab-df-convert:hover {\n",
              "      background-color: #434B5C;\n",
              "      box-shadow: 0px 1px 3px 1px rgba(0, 0, 0, 0.15);\n",
              "      filter: drop-shadow(0px 1px 2px rgba(0, 0, 0, 0.3));\n",
              "      fill: #FFFFFF;\n",
              "    }\n",
              "  </style>\n",
              "\n",
              "      <script>\n",
              "        const buttonEl =\n",
              "          document.querySelector('#df-654cf6fa-cc0c-48dc-9977-5c921da68e9e button.colab-df-convert');\n",
              "        buttonEl.style.display =\n",
              "          google.colab.kernel.accessAllowed ? 'block' : 'none';\n",
              "\n",
              "        async function convertToInteractive(key) {\n",
              "          const element = document.querySelector('#df-654cf6fa-cc0c-48dc-9977-5c921da68e9e');\n",
              "          const dataTable =\n",
              "            await google.colab.kernel.invokeFunction('convertToInteractive',\n",
              "                                                     [key], {});\n",
              "          if (!dataTable) return;\n",
              "\n",
              "          const docLinkHtml = 'Like what you see? Visit the ' +\n",
              "            '<a target=\"_blank\" href=https://colab.research.google.com/notebooks/data_table.ipynb>data table notebook</a>'\n",
              "            + ' to learn more about interactive tables.';\n",
              "          element.innerHTML = '';\n",
              "          dataTable['output_type'] = 'display_data';\n",
              "          await google.colab.output.renderOutput(dataTable, element);\n",
              "          const docLink = document.createElement('div');\n",
              "          docLink.innerHTML = docLinkHtml;\n",
              "          element.appendChild(docLink);\n",
              "        }\n",
              "      </script>\n",
              "    </div>\n",
              "  </div>\n",
              "  "
            ]
          },
          "metadata": {},
          "execution_count": 32
        }
      ]
    },
    {
      "cell_type": "code",
      "source": [
        "train_data = supervised_data[:-3].values #Training first 3 rows, doing this with 4 eows give better features lmao\n",
        "test_data = supervised_data[-3:].values\n",
        "print('Train Data Shape:', train_data.shape)\n",
        "print('Test Data Shape:', test_data.shape)"
      ],
      "metadata": {
        "colab": {
          "base_uri": "https://localhost:8080/"
        },
        "id": "uwkxUSqEHb3n",
        "outputId": "b17e9203-2efd-493c-ac93-b9b56fe83e99"
      },
      "execution_count": 33,
      "outputs": [
        {
          "output_type": "stream",
          "name": "stdout",
          "text": [
            "Train Data Shape: (3, 6)\n",
            "Test Data Shape: (3, 6)\n"
          ]
        }
      ]
    },
    {
      "cell_type": "code",
      "source": [
        "scaler = MinMaxScaler(feature_range=(-1,1))\n",
        "scaler.fit(train_data)\n",
        "train_data = scaler.transform(train_data)\n",
        "test_data = scaler.transform(test_data)"
      ],
      "metadata": {
        "id": "qMgTzYMN8eLU"
      },
      "execution_count": 34,
      "outputs": []
    },
    {
      "cell_type": "code",
      "source": [
        "#In supervised df, first column always corresponds to output and rest as input features\n",
        "X_train, y_train = train_data[:,1:], train_data[:,0:1]\n",
        "X_test, y_test = test_data[:,1:], test_data[:,0:1]\n",
        "y_train = y_train.ravel() #ravel is used to change a 2-dimensional array or a multi-dimensional array into a contiguous flattened array.\n",
        "y_test = y_test.ravel()\n",
        "print('X_train Shape:', X_train.shape)\n",
        "print('y_train Shape:', y_train.shape)\n",
        "print('X_test Shape:', X_test.shape)\n",
        "print('y_test Shape:', y_test.shape)"
      ],
      "metadata": {
        "colab": {
          "base_uri": "https://localhost:8080/"
        },
        "id": "nXxw0aeI-enl",
        "outputId": "aef85101-3562-4b3d-cb32-2b5a5dbda098"
      },
      "execution_count": 35,
      "outputs": [
        {
          "output_type": "stream",
          "name": "stdout",
          "text": [
            "X_train Shape: (3, 5)\n",
            "y_train Shape: (3,)\n",
            "X_test Shape: (3, 5)\n",
            "y_test Shape: (3,)\n"
          ]
        }
      ]
    },
    {
      "cell_type": "markdown",
      "source": [
        "Making prediction df to merge the predicted sales of all trained algos"
      ],
      "metadata": {
        "id": "cuJaYU160U5b"
      }
    },
    {
      "cell_type": "code",
      "source": [
        "sales_dates = monthly_sales['Date'][-3:].reset_index(drop=True)\n",
        "predict_df = pd.DataFrame(sales_dates)"
      ],
      "metadata": {
        "id": "_1I2UpWu_hls"
      },
      "execution_count": 36,
      "outputs": []
    },
    {
      "cell_type": "code",
      "source": [
        "actual_sales=monthly_sales['QTY'][-3:].to_list()\n",
        "print(actual_sales)"
      ],
      "metadata": {
        "colab": {
          "base_uri": "https://localhost:8080/"
        },
        "id": "tRSGuDtQ_y3P",
        "outputId": "9c0798e4-abd5-43f3-dbbd-efb303df29b2"
      },
      "execution_count": 37,
      "outputs": [
        {
          "output_type": "stream",
          "name": "stdout",
          "text": [
            "[29907.18, 11684.43, 9842.18]\n"
          ]
        }
      ]
    },
    {
      "cell_type": "markdown",
      "source": [
        "# linear regression"
      ],
      "metadata": {
        "id": "aHsnoR53AeG1"
      }
    },
    {
      "cell_type": "code",
      "source": [
        "linearreg_model=LinearRegression()\n",
        "linearreg_model.fit(X_train,y_train)\n",
        "linearreg_prediction=linearreg_model.predict(X_test)"
      ],
      "metadata": {
        "id": "wrO1p-VvAaYx"
      },
      "execution_count": 38,
      "outputs": []
    },
    {
      "cell_type": "code",
      "source": [
        "linearreg_prediction=linearreg_prediction.reshape(-1,1)\n",
        "lr_pre_test_set=np.concatenate([linearreg_prediction,X_test],axis=1)\n",
        "lr_pre_test_set=scaler.inverse_transform(lr_pre_test_set) #Transforming predicted values to original self"
      ],
      "metadata": {
        "id": "nFkG2oI9BrIv"
      },
      "execution_count": 39,
      "outputs": []
    },
    {
      "cell_type": "code",
      "source": [
        "result_list = []\n",
        "for index in range(0, len(lr_pre_test_set)):\n",
        "    result_list.append(lr_pre_test_set[index][0] + actual_sales[index])\n",
        "lr_pre_series = pd.Series(result_list,name='linear prediction')\n",
        "predict_df = predict_df.merge(lr_pre_series, left_index=True, right_index=True)\n"
      ],
      "metadata": {
        "id": "ElGWbshWDHoE"
      },
      "execution_count": 40,
      "outputs": []
    },
    {
      "cell_type": "code",
      "source": [
        "print(predict_df)"
      ],
      "metadata": {
        "colab": {
          "base_uri": "https://localhost:8080/"
        },
        "id": "LP5EFxTcHuII",
        "outputId": "4736608e-5764-406e-b524-f7cf8f0d8dec"
      },
      "execution_count": 41,
      "outputs": [
        {
          "output_type": "stream",
          "name": "stdout",
          "text": [
            "        Date  linear prediction\n",
            "0 2022-10-01       36235.825423\n",
            "1 2022-11-01        9576.887170\n",
            "2 2022-12-01       13023.036596\n"
          ]
        }
      ]
    },
    {
      "cell_type": "code",
      "source": [
        "lr_mse = np.sqrt(mean_squared_error(predict_df['linear prediction'], monthly_sales['QTY'][-3:]))\n",
        "lr_mae = mean_absolute_error(predict_df['linear prediction'], monthly_sales['QTY'][-3:])\n",
        "lr_r2 = r2_score(predict_df['linear prediction'], monthly_sales['QTY'][-3:])\n",
        "print('Linear Regression MSE: ', lr_mse)\n",
        "print('Linear Regression MAE: ', lr_mae)\n",
        "print('Linear Regression R2 Score: ', lr_r2)"
      ],
      "metadata": {
        "colab": {
          "base_uri": "https://localhost:8080/"
        },
        "id": "M7_PFwnDEPK5",
        "outputId": "ae42fc5f-a445-434c-ae0b-0b9a453c4eae"
      },
      "execution_count": 42,
      "outputs": [
        {
          "output_type": "stream",
          "name": "stdout",
          "text": [
            "Linear Regression MSE:  4266.588736896289\n",
            "Linear Regression MAE:  3872.3482828782794\n",
            "Linear Regression R2 Score:  0.8701181932108707\n"
          ]
        }
      ]
    },
    {
      "cell_type": "code",
      "source": [
        "plt.figure(figsize=(15,5))\n",
        "#Actual sales\n",
        "plt.plot(monthly_sales['Date'], monthly_sales['QTY'])\n",
        "#Predicted sales\n",
        "plt.plot(predict_df['Date'], predict_df['linear prediction'])\n",
        "plt.title(\"TOTAL Sales Forecast using Linear Regression\")\n",
        "plt.xlabel(\"Date\")\n",
        "plt.ylabel(\"TOTAL\")\n",
        "plt.legend([\"Original Sales\", \"Predicted Sales\"])\n",
        "plt.show()"
      ],
      "metadata": {
        "colab": {
          "base_uri": "https://localhost:8080/",
          "height": 369
        },
        "id": "ZbdkHEFQIZwc",
        "outputId": "6540fa3f-2ae7-4378-ba6a-247e8b3e61b8"
      },
      "execution_count": 43,
      "outputs": [
        {
          "output_type": "display_data",
          "data": {
            "text/plain": [
              "<Figure size 1080x360 with 1 Axes>"
            ],
            "image/png": "[encoded data removed]"
          },
          "metadata": {}
        }
      ]
    },
    {
      "cell_type": "markdown",
      "source": [
        "# RANDOM FOREST REGRESSOR"
      ],
      "metadata": {
        "id": "wLYOW2S-Voi9"
      }
    },
    {
      "cell_type": "code",
      "source": [
        "rf_model = RandomForestRegressor(n_estimators=100, max_depth=20)\n",
        "rf_model.fit(X_train, y_train)\n",
        "rf_pred = rf_model.predict(X_test)"
      ],
      "metadata": {
        "id": "4IxAoghvViVS"
      },
      "execution_count": 44,
      "outputs": []
    },
    {
      "cell_type": "code",
      "source": [
        "rf_pred = rf_pred.reshape(-1,1)\n",
        "rf_pred_test_set = np.concatenate([rf_pred,X_test], axis=1)\n",
        "rf_pred_test_set = scaler.inverse_transform(rf_pred_test_set)"
      ],
      "metadata": {
        "id": "7o9MeHppVvpC"
      },
      "execution_count": 45,
      "outputs": []
    },
    {
      "cell_type": "code",
      "source": [
        "result_list = []\n",
        "for index in range(0, len(rf_pred_test_set)):\n",
        "    result_list.append(rf_pred_test_set[index][0] + actual_sales[index])\n",
        "rf_pred_series = pd.Series(result_list, name='rf_pred')\n",
        "predict_df = predict_df.merge(rf_pred_series, left_index=True, right_index=True)\n"
      ],
      "metadata": {
        "id": "EedBVY2uV9AF"
      },
      "execution_count": 46,
      "outputs": []
    },
    {
      "cell_type": "code",
      "source": [
        "rf_rmse = np.sqrt(mean_squared_error(predict_df['rf_pred'], monthly_sales['QTY'][-3:]))\n",
        "rf_mae = mean_absolute_error(predict_df['rf_pred'], monthly_sales['QTY'][-3:])\n",
        "rf_r2 = r2_score(predict_df['rf_pred'], monthly_sales['QTY'][-3:])\n",
        "print('Random Forest RMSE: ', rf_rmse)\n",
        "print('Random Forest MAE: ', rf_mae)\n",
        "print('Random Forest R2 Score: ', rf_r2)"
      ],
      "metadata": {
        "id": "CHwvO7cTWKJn",
        "colab": {
          "base_uri": "https://localhost:8080/"
        },
        "outputId": "0d1b86f1-9c8b-49a3-8471-cc0c812cfd56"
      },
      "execution_count": 47,
      "outputs": [
        {
          "output_type": "stream",
          "name": "stdout",
          "text": [
            "Random Forest RMSE:  1747.799998535866\n",
            "Random Forest MAE:  1389.791066666666\n",
            "Random Forest R2 Score:  0.9702084955745494\n"
          ]
        }
      ]
    },
    {
      "cell_type": "code",
      "source": [
        "plt.figure(figsize=(15,7))\n",
        "plt.plot(monthly_sales['Date'], monthly_sales['QTY'])\n",
        "plt.plot(predict_df['Date'], predict_df['rf_pred'])\n",
        "plt.title(\"Customer Sales Forecast using Random Forest\")\n",
        "plt.xlabel(\"DATE\")\n",
        "plt.ylabel(\"Total\")\n",
        "plt.legend([\"Original Sales\", \"Predicted Sales\"])\n",
        "plt.show()"
      ],
      "metadata": {
        "id": "YY2laDsCWcRs",
        "colab": {
          "base_uri": "https://localhost:8080/",
          "height": 513
        },
        "outputId": "1a2ccbec-1b5c-4457-8cf5-badbd153f38f"
      },
      "execution_count": 48,
      "outputs": [
        {
          "output_type": "display_data",
          "data": {
            "text/plain": [
              "<Figure size 1080x504 with 1 Axes>"
            ],
            "image/png": "[encoded data removed]"
          },
          "metadata": {}
        }
      ]
    },
    {
      "cell_type": "markdown",
      "source": [
        "# XGBoost"
      ],
      "metadata": {
        "id": "CqAEpVnsWxng"
      }
    },
    {
      "cell_type": "code",
      "source": [
        "xgb_model = XGBRegressor(n_estimators=100, learning_rate=0.2, objective='reg:squarederror')\n",
        "xgb_model.fit(X_train, y_train)\n",
        "xgb_pred = xgb_model.predict(X_test)"
      ],
      "metadata": {
        "id": "28YiVh0OW4dG"
      },
      "execution_count": 49,
      "outputs": []
    },
    {
      "cell_type": "code",
      "source": [
        "xgb_pred = xgb_pred.reshape(-1,1)\n",
        "xgb_pred_test_set = np.concatenate([xgb_pred,X_test], axis=1)\n",
        "xgb_pred_test_set = scaler.inverse_transform(xgb_pred_test_set)\n"
      ],
      "metadata": {
        "id": "ZXGcyLalW_6j"
      },
      "execution_count": 50,
      "outputs": []
    },
    {
      "cell_type": "code",
      "source": [
        "result_list = []\n",
        "for index in range(0, len(xgb_pred_test_set)):\n",
        "    result_list.append(xgb_pred_test_set[index][0] + actual_sales[index])\n",
        "xgb_pred_series = pd.Series(result_list, name='xgb_pred')\n",
        "predict_df = predict_df.merge(xgb_pred_series, left_index=True, right_index=True)\n"
      ],
      "metadata": {
        "id": "rYoHXl0BXJSW"
      },
      "execution_count": 51,
      "outputs": []
    },
    {
      "cell_type": "code",
      "source": [
        "xgb_rmse = np.sqrt(mean_squared_error(predict_df['xgb_pred'], monthly_sales['QTY'][-3:]))\n",
        "xgb_mae = mean_absolute_error(predict_df['xgb_pred'], monthly_sales['QTY'][-3:])\n",
        "xgb_r2 = r2_score(predict_df['xgb_pred'], monthly_sales['QTY'][-3:])\n",
        "print('XG Boost RMSE: ', xgb_rmse)\n",
        "print('XG Boost MAE: ', xgb_mae)\n",
        "print('XG Boost R2 Score: ', xgb_r2)"
      ],
      "metadata": {
        "id": "-X0kvULQXVh2",
        "colab": {
          "base_uri": "https://localhost:8080/"
        },
        "outputId": "0580c103-359a-428f-db83-0b23dd070fcf"
      },
      "execution_count": 52,
      "outputs": [
        {
          "output_type": "stream",
          "name": "stdout",
          "text": [
            "XG Boost RMSE:  4151.344515789129\n",
            "XG Boost MAE:  3460.1126364692045\n",
            "XG Boost R2 Score:  0.6957174713346165\n"
          ]
        }
      ]
    },
    {
      "cell_type": "code",
      "source": [
        "plt.figure(figsize=(15,7))\n",
        "plt.plot(monthly_sales['Date'], monthly_sales['QTY'])\n",
        "plt.plot(predict_df['Date'], predict_df['xgb_pred'])\n",
        "plt.title(\"Customer Sales Forecast using XG Boost\")\n",
        "plt.xlabel(\"Date\")\n",
        "plt.ylabel(\"TOTAL\")\n",
        "plt.legend([\"Original Sales\", \"Predicted Sales\"])\n",
        "plt.show()"
      ],
      "metadata": {
        "id": "3I3KAcT8Xjuy",
        "colab": {
          "base_uri": "https://localhost:8080/",
          "height": 513
        },
        "outputId": "4eb64cbb-31db-4419-c1e4-a5600420aae6"
      },
      "execution_count": 53,
      "outputs": [
        {
          "output_type": "display_data",
          "data": {
            "text/plain": [
              "<Figure size 1080x504 with 1 Axes>"
            ],
            "image/png": "[encoded data removed]"
          },
          "metadata": {}
        }
      ]
    },
    {
      "cell_type": "markdown",
      "source": [
        "# Simple LSTM RNN\n",
        "-> Sequential data, so rnn good choice"
      ],
      "metadata": {
        "id": "Si_Me_xPX53L"
      }
    },
    {
      "cell_type": "code",
      "source": [
        "model = Sequential()\n",
        "model.add(LSTM(4, batch_input_shape=(1, X_train.shape[0], X_test.shape[1])))\n",
        "model.add(Dense(10, activation='relu'))\n",
        "model.add(Dense(1))\n",
        "model.compile(loss='mean_squared_error', optimizer='adam')"
      ],
      "metadata": {
        "id": "bWNYB1lIYGM6"
      },
      "execution_count": 54,
      "outputs": []
    },
    {
      "cell_type": "code",
      "source": [
        "# reshape training set \n",
        "train_data = train_data.reshape(train_data.shape[0], train_data.shape[1]) \n",
        "train_set_scaled = scaler.transform(train_data) \n",
        "# reshape test set \n",
        "test_data = test_data.reshape(test_data.shape[0], test_data.shape[1]) \n",
        "test_set_scaled = scaler.transform(test_data) \n",
        "X_train, y_train = train_set_scaled[:, 1:], train_set_scaled[:, 0:1] \n",
        "X_train = X_train.reshape(X_train.shape[0], 1, X_train.shape[1]) \n",
        "X_test, y_test = test_set_scaled[:, 1:], test_set_scaled[:, 0:1] \n",
        "X_test = X_test.reshape(X_test.shape[0], 1, X_test.shape[1])"
      ],
      "metadata": {
        "id": "xWFHhwywZMMJ"
      },
      "execution_count": 55,
      "outputs": []
    },
    {
      "cell_type": "code",
      "source": [
        "model = Sequential() \n",
        "model.add(LSTM(4, batch_input_shape=(1, X_train.shape[1], X_train.shape[2]), stateful=True)) \n",
        "model.add(Dense(1))\n",
        "model.compile(loss='mean_squared_error', optimizer='adam')"
      ],
      "metadata": {
        "id": "vUD-xbJ2YyDa"
      },
      "execution_count": 56,
      "outputs": []
    },
    {
      "cell_type": "code",
      "source": [
        "checkpoint_filepath = os.getcwd()\n",
        "model_checkpoint_callback = ModelCheckpoint(filepath=checkpoint_filepath, save_weights_only=False, monitor='val_loss', mode='min', save_best_only=True)\n",
        "callbacks = [EarlyStopping(patience=5), model_checkpoint_callback]\n"
      ],
      "metadata": {
        "id": "PUKIRuDVa2Nm"
      },
      "execution_count": 57,
      "outputs": []
    },
    {
      "cell_type": "code",
      "source": [
        "history = model.fit(X_train, y_train, epochs=100, batch_size=1, verbose=1, shuffle=False)\n"
      ],
      "metadata": {
        "id": "mdQk8KB2a9wE",
        "colab": {
          "base_uri": "https://localhost:8080/"
        },
        "outputId": "12389900-c6ac-4308-8405-4fc44b249836"
      },
      "execution_count": 58,
      "outputs": [
        {
          "output_type": "stream",
          "name": "stdout",
          "text": [
            "Epoch 1/100\n",
            "3/3 [==============================] - 2s 7ms/step - loss: 0.1314\n",
            "Epoch 2/100\n",
            "3/3 [==============================] - 0s 4ms/step - loss: 0.0805\n",
            "Epoch 3/100\n",
            "3/3 [==============================] - 0s 4ms/step - loss: 0.0666\n",
            "Epoch 4/100\n",
            "3/3 [==============================] - 0s 4ms/step - loss: 0.0588\n",
            "Epoch 5/100\n",
            "3/3 [==============================] - 0s 4ms/step - loss: 0.0516\n",
            "Epoch 6/100\n",
            "3/3 [==============================] - 0s 4ms/step - loss: 0.0441\n",
            "Epoch 7/100\n",
            "3/3 [==============================] - 0s 5ms/step - loss: 0.0366\n",
            "Epoch 8/100\n",
            "3/3 [==============================] - 0s 4ms/step - loss: 0.0294\n",
            "Epoch 9/100\n",
            "3/3 [==============================] - 0s 4ms/step - loss: 0.0228\n",
            "Epoch 10/100\n",
            "3/3 [==============================] - 0s 4ms/step - loss: 0.0170\n",
            "Epoch 11/100\n",
            "3/3 [==============================] - 0s 4ms/step - loss: 0.0121\n",
            "Epoch 12/100\n",
            "3/3 [==============================] - 0s 4ms/step - loss: 0.0082\n",
            "Epoch 13/100\n",
            "3/3 [==============================] - 0s 3ms/step - loss: 0.0051\n",
            "Epoch 14/100\n",
            "3/3 [==============================] - 0s 4ms/step - loss: 0.0029\n",
            "Epoch 15/100\n",
            "3/3 [==============================] - 0s 4ms/step - loss: 0.0014\n",
            "Epoch 16/100\n",
            "3/3 [==============================] - 0s 5ms/step - loss: 5.3433e-04\n",
            "Epoch 17/100\n",
            "3/3 [==============================] - 0s 4ms/step - loss: 1.1238e-04\n",
            "Epoch 18/100\n",
            "3/3 [==============================] - 0s 5ms/step - loss: 5.9187e-06\n",
            "Epoch 19/100\n",
            "3/3 [==============================] - 0s 4ms/step - loss: 8.1683e-05\n",
            "Epoch 20/100\n",
            "3/3 [==============================] - 0s 4ms/step - loss: 2.2884e-04\n",
            "Epoch 21/100\n",
            "3/3 [==============================] - 0s 4ms/step - loss: 3.6746e-04\n",
            "Epoch 22/100\n",
            "3/3 [==============================] - 0s 4ms/step - loss: 4.5158e-04\n",
            "Epoch 23/100\n",
            "3/3 [==============================] - 0s 5ms/step - loss: 4.6633e-04\n",
            "Epoch 24/100\n",
            "3/3 [==============================] - 0s 4ms/step - loss: 4.2022e-04\n",
            "Epoch 25/100\n",
            "3/3 [==============================] - 0s 4ms/step - loss: 3.3502e-04\n",
            "Epoch 26/100\n",
            "3/3 [==============================] - 0s 4ms/step - loss: 2.3591e-04\n",
            "Epoch 27/100\n",
            "3/3 [==============================] - 0s 4ms/step - loss: 1.4413e-04\n",
            "Epoch 28/100\n",
            "3/3 [==============================] - 0s 5ms/step - loss: 7.3054e-05\n",
            "Epoch 29/100\n",
            "3/3 [==============================] - 0s 4ms/step - loss: 2.7532e-05\n",
            "Epoch 30/100\n",
            "3/3 [==============================] - 0s 5ms/step - loss: 5.5167e-06\n",
            "Epoch 31/100\n",
            "3/3 [==============================] - 0s 4ms/step - loss: 8.3176e-07\n",
            "Epoch 32/100\n",
            "3/3 [==============================] - 0s 4ms/step - loss: 5.9711e-06\n",
            "Epoch 33/100\n",
            "3/3 [==============================] - 0s 4ms/step - loss: 1.4252e-05\n",
            "Epoch 34/100\n",
            "3/3 [==============================] - 0s 3ms/step - loss: 2.1032e-05\n",
            "Epoch 35/100\n",
            "3/3 [==============================] - 0s 4ms/step - loss: 2.4025e-05\n",
            "Epoch 36/100\n",
            "3/3 [==============================] - 0s 3ms/step - loss: 2.2957e-05\n",
            "Epoch 37/100\n",
            "3/3 [==============================] - 0s 4ms/step - loss: 1.8876e-05\n",
            "Epoch 38/100\n",
            "3/3 [==============================] - 0s 4ms/step - loss: 1.3384e-05\n",
            "Epoch 39/100\n",
            "3/3 [==============================] - 0s 5ms/step - loss: 8.0037e-06\n",
            "Epoch 40/100\n",
            "3/3 [==============================] - 0s 3ms/step - loss: 3.7887e-06\n",
            "Epoch 41/100\n",
            "3/3 [==============================] - 0s 4ms/step - loss: 1.1870e-06\n",
            "Epoch 42/100\n",
            "3/3 [==============================] - 0s 4ms/step - loss: 1.1261e-07\n",
            "Epoch 43/100\n",
            "3/3 [==============================] - 0s 4ms/step - loss: 1.3623e-07\n",
            "Epoch 44/100\n",
            "3/3 [==============================] - 0s 4ms/step - loss: 7.0959e-07\n",
            "Epoch 45/100\n",
            "3/3 [==============================] - 0s 6ms/step - loss: 1.3507e-06\n",
            "Epoch 46/100\n",
            "3/3 [==============================] - 0s 4ms/step - loss: 1.7513e-06\n",
            "Epoch 47/100\n",
            "3/3 [==============================] - 0s 5ms/step - loss: 1.8018e-06\n",
            "Epoch 48/100\n",
            "3/3 [==============================] - 0s 6ms/step - loss: 1.5507e-06\n",
            "Epoch 49/100\n",
            "3/3 [==============================] - 0s 4ms/step - loss: 1.1335e-06\n",
            "Epoch 50/100\n",
            "3/3 [==============================] - 0s 4ms/step - loss: 6.9867e-07\n",
            "Epoch 51/100\n",
            "3/3 [==============================] - 0s 4ms/step - loss: 3.5624e-07\n",
            "Epoch 52/100\n",
            "3/3 [==============================] - 0s 5ms/step - loss: 1.5535e-07\n",
            "Epoch 53/100\n",
            "3/3 [==============================] - 0s 6ms/step - loss: 8.7927e-08\n",
            "Epoch 54/100\n",
            "3/3 [==============================] - 0s 4ms/step - loss: 1.1021e-07\n",
            "Epoch 55/100\n",
            "3/3 [==============================] - 0s 4ms/step - loss: 1.6796e-07\n",
            "Epoch 56/100\n",
            "3/3 [==============================] - 0s 4ms/step - loss: 2.1692e-07\n",
            "Epoch 57/100\n",
            "3/3 [==============================] - 0s 4ms/step - loss: 2.3331e-07\n",
            "Epoch 58/100\n",
            "3/3 [==============================] - 0s 4ms/step - loss: 2.1444e-07\n",
            "Epoch 59/100\n",
            "3/3 [==============================] - 0s 4ms/step - loss: 1.7210e-07\n",
            "Epoch 60/100\n",
            "3/3 [==============================] - 0s 5ms/step - loss: 1.2353e-07\n",
            "Epoch 61/100\n",
            "3/3 [==============================] - 0s 4ms/step - loss: 8.3449e-08\n",
            "Epoch 62/100\n",
            "3/3 [==============================] - 0s 4ms/step - loss: 5.9779e-08\n",
            "Epoch 63/100\n",
            "3/3 [==============================] - 0s 4ms/step - loss: 5.2891e-08\n",
            "Epoch 64/100\n",
            "3/3 [==============================] - 0s 4ms/step - loss: 5.7836e-08\n",
            "Epoch 65/100\n",
            "3/3 [==============================] - 0s 4ms/step - loss: 6.7701e-08\n",
            "Epoch 66/100\n",
            "3/3 [==============================] - 0s 4ms/step - loss: 7.6477e-08\n",
            "Epoch 67/100\n",
            "3/3 [==============================] - 0s 4ms/step - loss: 8.0895e-08\n",
            "Epoch 68/100\n",
            "3/3 [==============================] - 0s 4ms/step - loss: 8.0346e-08\n",
            "Epoch 69/100\n",
            "3/3 [==============================] - 0s 5ms/step - loss: 7.6430e-08\n",
            "Epoch 70/100\n",
            "3/3 [==============================] - 0s 4ms/step - loss: 7.1373e-08\n",
            "Epoch 71/100\n",
            "3/3 [==============================] - 0s 4ms/step - loss: 6.7116e-08\n",
            "Epoch 72/100\n",
            "3/3 [==============================] - 0s 4ms/step - loss: 6.4570e-08\n",
            "Epoch 73/100\n",
            "3/3 [==============================] - 0s 4ms/step - loss: 6.3672e-08\n",
            "Epoch 74/100\n",
            "3/3 [==============================] - 0s 5ms/step - loss: 6.3734e-08\n",
            "Epoch 75/100\n",
            "3/3 [==============================] - 0s 4ms/step - loss: 6.3968e-08\n",
            "Epoch 76/100\n",
            "3/3 [==============================] - 0s 4ms/step - loss: 6.3805e-08\n",
            "Epoch 77/100\n",
            "3/3 [==============================] - 0s 4ms/step - loss: 6.3065e-08\n",
            "Epoch 78/100\n",
            "3/3 [==============================] - 0s 4ms/step - loss: 6.1913e-08\n",
            "Epoch 79/100\n",
            "3/3 [==============================] - 0s 4ms/step - loss: 6.0745e-08\n",
            "Epoch 80/100\n",
            "3/3 [==============================] - 0s 4ms/step - loss: 5.9872e-08\n",
            "Epoch 81/100\n",
            "3/3 [==============================] - 0s 5ms/step - loss: 5.9461e-08\n",
            "Epoch 82/100\n",
            "3/3 [==============================] - 0s 4ms/step - loss: 5.9540e-08\n",
            "Epoch 83/100\n",
            "3/3 [==============================] - 0s 4ms/step - loss: 5.9939e-08\n",
            "Epoch 84/100\n",
            "3/3 [==============================] - 0s 5ms/step - loss: 6.0469e-08\n",
            "Epoch 85/100\n",
            "3/3 [==============================] - 0s 4ms/step - loss: 6.0933e-08\n",
            "Epoch 86/100\n",
            "3/3 [==============================] - 0s 4ms/step - loss: 6.1252e-08\n",
            "Epoch 87/100\n",
            "3/3 [==============================] - 0s 4ms/step - loss: 6.1409e-08\n",
            "Epoch 88/100\n",
            "3/3 [==============================] - 0s 4ms/step - loss: 6.1448e-08\n",
            "Epoch 89/100\n",
            "3/3 [==============================] - 0s 4ms/step - loss: 6.1393e-08\n",
            "Epoch 90/100\n",
            "3/3 [==============================] - 0s 4ms/step - loss: 6.1319e-08\n",
            "Epoch 91/100\n",
            "3/3 [==============================] - 0s 3ms/step - loss: 6.1239e-08\n",
            "Epoch 92/100\n",
            "3/3 [==============================] - 0s 4ms/step - loss: 6.1138e-08\n",
            "Epoch 93/100\n",
            "3/3 [==============================] - 0s 5ms/step - loss: 6.1020e-08\n",
            "Epoch 94/100\n",
            "3/3 [==============================] - 0s 5ms/step - loss: 6.0875e-08\n",
            "Epoch 95/100\n",
            "3/3 [==============================] - 0s 4ms/step - loss: 6.0746e-08\n",
            "Epoch 96/100\n",
            "3/3 [==============================] - 0s 4ms/step - loss: 6.0627e-08\n",
            "Epoch 97/100\n",
            "3/3 [==============================] - 0s 4ms/step - loss: 6.0539e-08\n",
            "Epoch 98/100\n",
            "3/3 [==============================] - 0s 4ms/step - loss: 6.0521e-08\n",
            "Epoch 99/100\n",
            "3/3 [==============================] - 0s 4ms/step - loss: 6.0509e-08\n",
            "Epoch 100/100\n",
            "3/3 [==============================] - 0s 3ms/step - loss: 6.0565e-08\n"
          ]
        }
      ]
    },
    {
      "cell_type": "code",
      "source": [
        "metrics_df = pd.DataFrame(history.history)\n",
        "print(metrics_df)"
      ],
      "metadata": {
        "id": "EasNRekZcaPz",
        "colab": {
          "base_uri": "https://localhost:8080/"
        },
        "outputId": "ee3df56b-4a8e-4aeb-8195-935bb77aee46"
      },
      "execution_count": 59,
      "outputs": [
        {
          "output_type": "stream",
          "name": "stdout",
          "text": [
            "            loss\n",
            "0   1.314034e-01\n",
            "1   8.051863e-02\n",
            "2   6.663987e-02\n",
            "3   5.881163e-02\n",
            "4   5.159876e-02\n",
            "..           ...\n",
            "95  6.062665e-08\n",
            "96  6.053856e-08\n",
            "97  6.052107e-08\n",
            "98  6.050947e-08\n",
            "99  6.056514e-08\n",
            "\n",
            "[100 rows x 1 columns]\n"
          ]
        }
      ]
    },
    {
      "cell_type": "code",
      "source": [
        "lstm_pred = model.predict(X_test, batch_size=1)\n",
        "lstm_pred = lstm_pred.reshape(-1,1)\n",
        "#lstm_pred_test_set = np.concatenate([lstm_pred,X_test], axis=1)\n",
        "#lstm_pred_test_set = scaler.inverse_transform(rf_pred_test_set)\n"
      ],
      "metadata": {
        "id": "opnmJdrWdZWB",
        "colab": {
          "base_uri": "https://localhost:8080/"
        },
        "outputId": "31f3a587-62bb-4ddf-e2be-7c62037490b1"
      },
      "execution_count": 60,
      "outputs": [
        {
          "output_type": "stream",
          "name": "stdout",
          "text": [
            "3/3 [==============================] - 1s 4ms/step\n"
          ]
        }
      ]
    },
    {
      "cell_type": "code",
      "source": [
        "result_list = []\n",
        "for index in range(0, len(lstm_pred)):\n",
        "    result_list.append(lstm_pred[index][0] + actual_sales[index])\n",
        "lstm_pred_series = pd.Series(result_list, name='lstm_pred')\n",
        "predict_df = predict_df.merge(lstm_pred_series, left_index=True, right_index=True)"
      ],
      "metadata": {
        "id": "ZzEzp3TFkUA7"
      },
      "execution_count": 61,
      "outputs": []
    },
    {
      "cell_type": "code",
      "source": [
        "plt.figure(figsize=(15,5))\n",
        "plt.plot(monthly_sales['Date'], monthly_sales['QTY'])\n",
        "plt.plot(predict_df['Date'], predict_df['lstm_pred'])\n",
        "plt.title(\"Customer Sales Forecast using LSTM\")\n",
        "plt.xlabel(\"Date\")\n",
        "plt.ylabel(\"TOTAL\")\n",
        "plt.legend([\"Original Sales\", \"Predicted Sales\"])\n",
        "plt.show()"
      ],
      "metadata": {
        "id": "KGlojUsXjxf8",
        "colab": {
          "base_uri": "https://localhost:8080/",
          "height": 369
        },
        "outputId": "14879937-cdc7-442d-8625-ee249e324974"
      },
      "execution_count": 62,
      "outputs": [
        {
          "output_type": "display_data",
          "data": {
            "text/plain": [
              "<Figure size 1080x360 with 1 Axes>"
            ],
            "image/png": "[encoded data removed]"
          },
          "metadata": {}
        }
      ]
    }
  ]
}